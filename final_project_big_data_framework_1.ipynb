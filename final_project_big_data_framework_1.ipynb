{
 "cells": [
  {
   "cell_type": "markdown",
   "metadata": {},
   "source": [
    "<div style=\"text-align: center; padding: 20px;\">\n",
    "    <span style=\"font-size: 24px; font-weight: bold; text-decoration: underline;\">\n",
    "        BigData Framework: Final Project \n",
    "    </span>\n",
    "</div>\n",
    "\n",
    "<div style=\"text-align: center; font-size: 18px; line-height: 1.5;\">\n",
    "    SHAHIN Sarah , REDOUANE Hafsa<br>\n",
    "    ING4, Data&IA, Grp3<br>\n",
    "    [NOTEBOOK  1/2]\n",
    "</div>\n",
    "</div>\n",
    "</div>\n",
    "</div>\n",
    "</div>\n"
   ]
  },
  {
   "cell_type": "markdown",
   "metadata": {},
   "source": [
    "---\n",
    "<h2 style=\"text-align: left; color: #1a1a1a;\">Project Overview</h2>\n",
    "\n",
    "<p style=\"text-align: left; color: #555; font-size: 16px;\">\n",
    "    In this project, we will analyze a set of <span style=\"color: #007bff; font-weight: bold;\">\"Nasdaq tech stocks\"</span> using the <span style=\"color: #ff7f50; font-weight: bold;\">Spark framework</span>. The objective of this project is to design an application for traders to help them make better investment decisions.\n",
    "</p>\n",
    "\n",
    "<p style=\"text-align: left; color: #555; font-size: 16px;\">\n",
    "    We will structure the project in four steps:\n",
    "</p>\n",
    "\n",
    "<ol style=\"text-align: left; color: #1a1a1a; font-size: 16px; list-style-type: none; padding: 0;\">\n",
    "    <li style=\"color: #007bff;\">1. Project Initialization</li>\n",
    "    <li style=\"color: #ff7f50;\">2. Exploration</li>\n",
    "    <li style=\"color: #28a745;\">3. Pre-processing</li>\n",
    "    <li style=\"color: #ffcc00;\">4. Analysis and Visualization</li>\n",
    "    <li style=\"color: #ff0000;\">5. Conclusion </li>\n",
    "</ol>\n",
    "\n",
    "---\n",
    "\n",
    "## 1. Project Initialization\n",
    "\n",
    "\n",
    "<p style=\"text-align: left; color: #555; font-size: 16px;\">\n",
    "    This section will primarily focus on importing the necessary libraries, downloading and processing the data, as well as creating a Spark DataFrame.\n",
    "</p>\n",
    "\n",
    "---\n"
   ]
  },
  {
   "cell_type": "markdown",
   "metadata": {},
   "source": [
    "### 1.1. Downloading and importing essential libraries\n",
    " <p style=\"text-align: left; color: #555; font-size: 16px;\">\n",
    "    We download the <strong>yfinance</strong> library to easily access historical and real-time financial data.\n",
    "</p>\n"
   ]
  },
  {
   "cell_type": "code",
   "execution_count": 1,
   "metadata": {},
   "outputs": [
    {
     "name": "stdout",
     "output_type": "stream",
     "text": [
      "Collecting yfinance\n",
      "  Using cached yfinance-0.2.51-py2.py3-none-any.whl (104 kB)\n",
      "Requirement already satisfied: pandas>=1.3.0 in /opt/conda/lib/python3.11/site-packages (from yfinance) (2.0.2)\n",
      "Requirement already satisfied: numpy>=1.16.5 in /opt/conda/lib/python3.11/site-packages (from yfinance) (1.24.3)\n",
      "Requirement already satisfied: requests>=2.31 in /opt/conda/lib/python3.11/site-packages (from yfinance) (2.31.0)\n",
      "Collecting multitasking>=0.0.7 (from yfinance)\n",
      "  Using cached multitasking-0.0.11-py3-none-any.whl (8.5 kB)\n",
      "Collecting lxml>=4.9.1 (from yfinance)\n",
      "  Using cached lxml-5.3.0-cp311-cp311-manylinux_2_28_x86_64.whl (5.0 MB)\n",
      "Requirement already satisfied: platformdirs>=2.0.0 in /opt/conda/lib/python3.11/site-packages (from yfinance) (3.5.1)\n",
      "Requirement already satisfied: pytz>=2022.5 in /opt/conda/lib/python3.11/site-packages (from yfinance) (2023.3)\n",
      "Collecting frozendict>=2.3.4 (from yfinance)\n",
      "  Using cached frozendict-2.4.6-py311-none-any.whl (16 kB)\n",
      "Collecting peewee>=3.16.2 (from yfinance)\n",
      "  Using cached peewee-3.17.8-cp311-cp311-linux_x86_64.whl\n",
      "Requirement already satisfied: beautifulsoup4>=4.11.1 in /opt/conda/lib/python3.11/site-packages (from yfinance) (4.12.2)\n",
      "Collecting html5lib>=1.1 (from yfinance)\n",
      "  Using cached html5lib-1.1-py2.py3-none-any.whl (112 kB)\n",
      "Requirement already satisfied: soupsieve>1.2 in /opt/conda/lib/python3.11/site-packages (from beautifulsoup4>=4.11.1->yfinance) (2.3.2.post1)\n",
      "Requirement already satisfied: six>=1.9 in /opt/conda/lib/python3.11/site-packages (from html5lib>=1.1->yfinance) (1.16.0)\n",
      "Requirement already satisfied: webencodings in /opt/conda/lib/python3.11/site-packages (from html5lib>=1.1->yfinance) (0.5.1)\n",
      "Requirement already satisfied: python-dateutil>=2.8.2 in /opt/conda/lib/python3.11/site-packages (from pandas>=1.3.0->yfinance) (2.8.2)\n",
      "Requirement already satisfied: tzdata>=2022.1 in /opt/conda/lib/python3.11/site-packages (from pandas>=1.3.0->yfinance) (2023.3)\n",
      "Requirement already satisfied: charset-normalizer<4,>=2 in /opt/conda/lib/python3.11/site-packages (from requests>=2.31->yfinance) (3.1.0)\n",
      "Requirement already satisfied: idna<4,>=2.5 in /opt/conda/lib/python3.11/site-packages (from requests>=2.31->yfinance) (3.4)\n",
      "Requirement already satisfied: urllib3<3,>=1.21.1 in /opt/conda/lib/python3.11/site-packages (from requests>=2.31->yfinance) (2.0.2)\n",
      "Requirement already satisfied: certifi>=2017.4.17 in /opt/conda/lib/python3.11/site-packages (from requests>=2.31->yfinance) (2023.5.7)\n",
      "Installing collected packages: peewee, multitasking, lxml, html5lib, frozendict, yfinance\n",
      "Successfully installed frozendict-2.4.6 html5lib-1.1 lxml-5.3.0 multitasking-0.0.11 peewee-3.17.8 yfinance-0.2.51\n"
     ]
    }
   ],
   "source": [
    "!pip install yfinance"
   ]
  },
  {
   "cell_type": "code",
   "execution_count": 2,
   "metadata": {},
   "outputs": [],
   "source": [
    "# Importing necessary libraries for the project\n",
    "from pyspark.sql import SparkSession\n",
    "from pyspark.sql.functions import to_date, col, month, year, avg, weekofyear\n",
    "from pyspark.sql import functions as F\n",
    "import pandas as pd \n",
    "import matplotlib.pyplot as plt\n",
    "from pyspark.sql.window import Window\n",
    "import yfinance as yf\n",
    "import os\n",
    "from ipywidgets import interact, IntSlider, Dropdown"
   ]
  },
  {
   "cell_type": "markdown",
   "metadata": {},
   "source": [
    "### 1.2. Downloading data\n",
    "\n",
    "<p style=\"text-align: left; color: #555; font-size: 16px;\">\n",
    "    We download the data needed for our analysis using Yahoo Finance's Python API. \n",
    "</p>\n",
    "<p style=\"text-align: left; color: #555; font-size: 16px;\">\n",
    "    For our analysis, we selected the following companies: Apple, Nvidia, Microsoft, Amazon, and Google.  \n",
    "These companies are known for dominating their respective sectors (Electronics: AAPL, NVDA; Software and Cloud Services: MSFT, GOOG; E-commerce and Cloud Services: AMZN), in addition to having very high market capitalizations and being highly attractive. Indeed, they are considered pillars of the stock market. Furthermore, the innovative nature of these companies, driven by their investments in research and development, makes them appealing opportunities for investors, offering sustainable growth potential and high long-term returns.\n",
    "</p>\n",
    "\n",
    "<p style=\"text-align: left; color: #555; font-size: 16px;\">\n",
    "    The stocks we will analyze can be categorized based on the company's industry sector.\n",
    "</p>\n",
    "\n",
    "<table border=\"1\">\n",
    "    <thead>\n",
    "        <tr>\n",
    "            <th>Sector</th>\n",
    "            <th>Stocks</th>\n",
    "        </tr>\n",
    "    </thead>\n",
    "    <tbody>\n",
    "        <tr>\n",
    "            <td>Electronics</td>\n",
    "            <td>AAPL, NVDA</td>\n",
    "        </tr>\n",
    "        <tr>\n",
    "            <td>Software and Cloud Services</td>\n",
    "            <td>MSFT, GOOG</td>\n",
    "        </tr>\n",
    "        <tr>\n",
    "            <td>E-commerce and Cloud Services</td>\n",
    "            <td>AMZN</td>\n",
    "        </tr>\n",
    "    </tbody>\n",
    "</table>\n"
   ]
  },
  {
   "cell_type": "code",
   "execution_count": 3,
   "metadata": {},
   "outputs": [],
   "source": [
    "# List of stock symbols to download for analysis\n",
    "stocks = [\"AAPL\", \"NVDA\", \"MSFT\", \"AMZN\", \"GOOG\"] "
   ]
  },
  {
   "cell_type": "code",
   "execution_count": 4,
   "metadata": {},
   "outputs": [
    {
     "name": "stderr",
     "output_type": "stream",
     "text": [
      "[*********************100%***********************]  1 of 1 completed\n",
      "[*********************100%***********************]  1 of 1 completed\n",
      "[*********************100%***********************]  1 of 1 completed\n",
      "[*********************100%***********************]  1 of 1 completed\n",
      "[*********************100%***********************]  1 of 1 completed\n"
     ]
    }
   ],
   "source": [
    "os.makedirs(\"Data\", exist_ok = True)\n",
    "\n",
    "# Loop through each stock symbol and download the data\n",
    "for i in stocks: \n",
    "    nasdaq100 = yf.download(i, start = \"2010-01-01\", end= \"2024-11-30\", multi_level_index = False)\n",
    "    nasdaq100.to_csv(\"./Data/\"+i+\".csv\")"
   ]
  },
  {
   "cell_type": "markdown",
   "metadata": {},
   "source": [
    "### 1.3. Spark\n",
    "<p style=\"text-align: left; color: #555; font-size: 16px;\">\n",
    "    In this section, we'll load our data into dataframes, before converting them into spark dataframes to take advantage of Spark's distributed processing.\n",
    "</p>\n"
   ]
  },
  {
   "cell_type": "code",
   "execution_count": 5,
   "metadata": {},
   "outputs": [],
   "source": [
    "# Application name\n",
    "spark_application_name = \"big_data_project\"\n",
    "# Create a Spark session with the specified application name\n",
    "spark = (SparkSession.builder.appName(spark_application_name).getOrCreate())"
   ]
  },
  {
   "cell_type": "markdown",
   "metadata": {},
   "source": [
    "<p style=\"text-align: left; color: #555; font-size: 16px;\">\n",
    "    We load the cleaned data into dataframes so that they can be manipulated.\n",
    "</p>"
   ]
  },
  {
   "cell_type": "code",
   "execution_count": 7,
   "metadata": {},
   "outputs": [],
   "source": [
    "# the path of our cleaned data\n",
    "path = [\"./Data/\"+ i +\".csv\" for i in stocks]\n",
    "# Loading CSV files into separate DataFrames\n",
    "df_AAPL = pd.read_csv(path[0])\n",
    "df_NVDA = pd.read_csv(path[1])\n",
    "df_MSFT = pd.read_csv(path[2])\n",
    "df_AMZN = pd.read_csv(path[3])\n",
    "df_GOOG = pd.read_csv(path[4])"
   ]
  },
  {
   "cell_type": "markdown",
   "metadata": {},
   "source": [
    "<p style=\"text-align: left; color: #555; font-size: 16px;\">\n",
    "    We check for missing values in our dataframes and convert the <code>Datetime</code> columns to datetime format for easier temporal analysis.\n",
    "</p>"
   ]
  },
  {
   "cell_type": "code",
   "execution_count": 8,
   "metadata": {},
   "outputs": [
    {
     "name": "stdout",
     "output_type": "stream",
     "text": [
      "<class 'pandas.core.frame.DataFrame'>\n",
      "RangeIndex: 3753 entries, 0 to 3752\n",
      "Data columns (total 6 columns):\n",
      " #   Column  Non-Null Count  Dtype  \n",
      "---  ------  --------------  -----  \n",
      " 0   Date    3753 non-null   object \n",
      " 1   Close   3753 non-null   float64\n",
      " 2   High    3753 non-null   float64\n",
      " 3   Low     3753 non-null   float64\n",
      " 4   Open    3753 non-null   float64\n",
      " 5   Volume  3753 non-null   int64  \n",
      "dtypes: float64(4), int64(1), object(1)\n",
      "memory usage: 176.1+ KB\n"
     ]
    },
    {
     "data": {
      "text/plain": [
       "None"
      ]
     },
     "metadata": {},
     "output_type": "display_data"
    },
    {
     "name": "stdout",
     "output_type": "stream",
     "text": [
      "<class 'pandas.core.frame.DataFrame'>\n",
      "RangeIndex: 3753 entries, 0 to 3752\n",
      "Data columns (total 6 columns):\n",
      " #   Column  Non-Null Count  Dtype  \n",
      "---  ------  --------------  -----  \n",
      " 0   Date    3753 non-null   object \n",
      " 1   Close   3753 non-null   float64\n",
      " 2   High    3753 non-null   float64\n",
      " 3   Low     3753 non-null   float64\n",
      " 4   Open    3753 non-null   float64\n",
      " 5   Volume  3753 non-null   int64  \n",
      "dtypes: float64(4), int64(1), object(1)\n",
      "memory usage: 176.1+ KB\n"
     ]
    },
    {
     "data": {
      "text/plain": [
       "None"
      ]
     },
     "metadata": {},
     "output_type": "display_data"
    },
    {
     "name": "stdout",
     "output_type": "stream",
     "text": [
      "<class 'pandas.core.frame.DataFrame'>\n",
      "RangeIndex: 3753 entries, 0 to 3752\n",
      "Data columns (total 6 columns):\n",
      " #   Column  Non-Null Count  Dtype  \n",
      "---  ------  --------------  -----  \n",
      " 0   Date    3753 non-null   object \n",
      " 1   Close   3753 non-null   float64\n",
      " 2   High    3753 non-null   float64\n",
      " 3   Low     3753 non-null   float64\n",
      " 4   Open    3753 non-null   float64\n",
      " 5   Volume  3753 non-null   int64  \n",
      "dtypes: float64(4), int64(1), object(1)\n",
      "memory usage: 176.1+ KB\n"
     ]
    },
    {
     "data": {
      "text/plain": [
       "None"
      ]
     },
     "metadata": {},
     "output_type": "display_data"
    },
    {
     "name": "stdout",
     "output_type": "stream",
     "text": [
      "<class 'pandas.core.frame.DataFrame'>\n",
      "RangeIndex: 3753 entries, 0 to 3752\n",
      "Data columns (total 6 columns):\n",
      " #   Column  Non-Null Count  Dtype  \n",
      "---  ------  --------------  -----  \n",
      " 0   Date    3753 non-null   object \n",
      " 1   Close   3753 non-null   float64\n",
      " 2   High    3753 non-null   float64\n",
      " 3   Low     3753 non-null   float64\n",
      " 4   Open    3753 non-null   float64\n",
      " 5   Volume  3753 non-null   int64  \n",
      "dtypes: float64(4), int64(1), object(1)\n",
      "memory usage: 176.1+ KB\n"
     ]
    },
    {
     "data": {
      "text/plain": [
       "None"
      ]
     },
     "metadata": {},
     "output_type": "display_data"
    },
    {
     "name": "stdout",
     "output_type": "stream",
     "text": [
      "<class 'pandas.core.frame.DataFrame'>\n",
      "RangeIndex: 3753 entries, 0 to 3752\n",
      "Data columns (total 6 columns):\n",
      " #   Column  Non-Null Count  Dtype  \n",
      "---  ------  --------------  -----  \n",
      " 0   Date    3753 non-null   object \n",
      " 1   Close   3753 non-null   float64\n",
      " 2   High    3753 non-null   float64\n",
      " 3   Low     3753 non-null   float64\n",
      " 4   Open    3753 non-null   float64\n",
      " 5   Volume  3753 non-null   int64  \n",
      "dtypes: float64(4), int64(1), object(1)\n",
      "memory usage: 176.1+ KB\n"
     ]
    },
    {
     "data": {
      "text/plain": [
       "None"
      ]
     },
     "metadata": {},
     "output_type": "display_data"
    }
   ],
   "source": [
    "# We check if there are any missing values.\n",
    "display(df_AAPL.info())\n",
    "display(df_NVDA.info())\n",
    "display(df_MSFT.info())\n",
    "display(df_AMZN.info())\n",
    "display(df_GOOG.info())\n",
    "\n",
    "# Converting column \"Datetime\" to datetime type.\n",
    "df_AAPL[\"Date\"] = pd.to_datetime(df_AAPL[\"Date\"]).dt.date\n",
    "df_NVDA[\"Date\"] = pd.to_datetime(df_NVDA[\"Date\"]).dt.date\n",
    "df_MSFT[\"Date\"] = pd.to_datetime(df_MSFT[\"Date\"]).dt.date\n",
    "df_AMZN[\"Date\"] = pd.to_datetime(df_AMZN[\"Date\"]).dt.date\n",
    "df_GOOG[\"Date\"] = pd.to_datetime(df_GOOG[\"Date\"]).dt.date"
   ]
  },
  {
   "cell_type": "markdown",
   "metadata": {},
   "source": [
    "<p style=\"text-align: left; color: #555; font-size: 16px;\">\n",
    "    In the next cell, we will convert our DataFrames into Spark DataFrames.\n",
    "</p>"
   ]
  },
  {
   "cell_type": "code",
   "execution_count": 9,
   "metadata": {},
   "outputs": [],
   "source": [
    "# Convert Pandas DataFrame to a Spark DataFrame\n",
    "df_AAPL_spark = spark.createDataFrame(df_AAPL)  \n",
    "df_NVDA_spark = spark.createDataFrame(df_NVDA)  \n",
    "df_MSFT_spark = spark.createDataFrame(df_MSFT)\n",
    "df_AMZN_spark = spark.createDataFrame(df_AMZN)\n",
    "df_GOOG_spark = spark.createDataFrame(df_GOOG)\n",
    "\n",
    "# We are storing our Spark DataFrames in a dictionary to simplify manipulation\n",
    "data_spark = {\"AAPL\":df_AAPL_spark, \"NVDA\": df_NVDA_spark, \"MSFT\": df_MSFT_spark, \"AMZN\": df_AMZN_spark, \"GOOG\": df_GOOG_spark}"
   ]
  },
  {
   "cell_type": "markdown",
   "metadata": {},
   "source": [
    "<p style=\"text-align: left; color: #555; font-size: 16px;\">\n",
    "    We use the <strong><code>printSchema()</code></strong> function to get an overview of the variables and their types. We will apply this function to one of our Spark DataFrames since they all have the same structure.\n",
    "</p>\n",
    "\n"
   ]
  },
  {
   "cell_type": "code",
   "execution_count": 10,
   "metadata": {},
   "outputs": [
    {
     "name": "stdout",
     "output_type": "stream",
     "text": [
      "root\n",
      " |-- Date: date (nullable = true)\n",
      " |-- Close: double (nullable = true)\n",
      " |-- High: double (nullable = true)\n",
      " |-- Low: double (nullable = true)\n",
      " |-- Open: double (nullable = true)\n",
      " |-- Volume: long (nullable = true)\n",
      "\n"
     ]
    }
   ],
   "source": [
    "# Print the schema of the Spark DataFrame to display column names and types\n",
    "data_spark[\"AAPL\"].printSchema()"
   ]
  },
  {
   "cell_type": "markdown",
   "metadata": {},
   "source": [
    "## 2. Exploration\n",
    "\n",
    "\n",
    "<p style=\"text-align: left; color: #555; font-size: 16px;\">\n",
    "    In this section, we're going to implement functions that will allow us to manipulate the data (observe/extract). Additionally, we will answer some questions to gain a good understanding of the data.\n",
    "</p>\n",
    "\n",
    "---\n",
    "\n",
    "### 2.1. Useful functions\n",
    "<p style=\"text-align: left; color: #555; font-size: 16px;\">\n",
    "    In this part we will create and extract useful information about our stocks\n",
    "</p>"
   ]
  },
  {
   "cell_type": "markdown",
   "metadata": {},
   "source": [
    "#### `show_first_last_40_rows()`\n",
    "\n",
    "We want to display the first and last 40 rows of each stock price. \n",
    "The function **`show_first_last_40_rows()`** implemented below will take a Spark DataFrame as an argument and display the first and last 40 rows of it. \n",
    "\n",
    "To do this, we use the **`show()`** function, passing the number of rows we want to display as a parameter. To display the last 40 rows, we use the **`tail()`** function, also passing the number of rows we want to display. \n",
    "\n",
    "However, for formatting purposes, we create a new Spark DataFrame from these rows while preserving the same columns (schema = `df.schema`).\n"
   ]
  },
  {
   "cell_type": "code",
   "execution_count": 22,
   "metadata": {},
   "outputs": [],
   "source": [
    "def show_first_last_40_rows(df):\n",
    "    \"\"\"\n",
    "    Display the first and last 40 rows of each stock price.\n",
    "\n",
    "    Parameters:\n",
    "    df : A Spark DataFrame\n",
    "\n",
    "    \"\"\"\n",
    "    # Display the first 40 rows of the DataFrame\n",
    "    print(\"> First 40 rows:\")\n",
    "    df.show(40)\n",
    "    \n",
    "    # Display the last 40 rows of the DataFrame\n",
    "    print(\"> Last 40 rows:\")\n",
    "    spark.createDataFrame(df.tail(40), schema=df.schema).show(40)"
   ]
  },
  {
   "cell_type": "markdown",
   "metadata": {},
   "source": [
    "#### `number_observations()`\n",
    "\n",
    "We want to get the number of observations in the Spark DataFrame. The function **`number_observations()`** implemented below takes a Spark DataFrame as an argument and displays the number of observations, which corresponds to the number of its rows. \n",
    "\n",
    "To do this, we use the function **`count()`** to get the number of rows in the Spark DataFrame.\n",
    "\n"
   ]
  },
  {
   "cell_type": "code",
   "execution_count": 23,
   "metadata": {},
   "outputs": [
    {
     "name": "stdout",
     "output_type": "stream",
     "text": [
      "There are 3753 observations.\n"
     ]
    }
   ],
   "source": [
    "def number_observations(df):\n",
    "    \"\"\"\n",
    "    Returns the number of lines in df \n",
    "    \n",
    "    Parameters:\n",
    "    df : A Spark DataFrame\n",
    "    \"\"\"\n",
    "    # Count the number of lines in df\n",
    "    return df.count()\n",
    "print(\"There are %d observations.\" %number_observations(data_spark[\"AAPL\"]))"
   ]
  },
  {
   "cell_type": "markdown",
   "metadata": {},
   "source": [
    "#### `period_data_points()` \n",
    "\n",
    "We aim to obtain the time difference between two records in the Spark DataFrame. The function **`period_data_points()`** implemented below takes a Spark DataFrame as an argument and returns a dictionary that contains the frequency of each time period.\n",
    "\n",
    "To achieve this, we first select the \"Date\" column using the **`select()`** function, and then sort it in ascending order with the **`orderBy()`** function, which is essential for accurately calculating the time differences.\n",
    "\n",
    "Since the amount of data is too large to iterate directly over the DataFrame, we convert the Spark DataFrame into a **RDD** (Resilient Distributed Dataset). At this stage, each row of the RDD contains elements of type **Row**. We then use the **`flatMap()`** function, which applies the operation **`lambda x: x`** to extract the date value from each row of the RDD, combining all elements into a single RDD of dates. Finally, we use the **`collect()`** function to bring everything back as a list.\n",
    "\n",
    "After completing the previous steps, we have a list of dates on which we will iterate. We will subtract the elements two by two and record the frequency of each period in a dictionary that we will return.\n"
   ]
  },
  {
   "cell_type": "code",
   "execution_count": 73,
   "metadata": {},
   "outputs": [],
   "source": [
    "def period_data_points(df):\n",
    "    \"\"\"\n",
    "    Returns a dictionary containing frequency of each period\n",
    "    \n",
    "    Parameters:\n",
    "    df : A Spark DataFrame\n",
    "    \"\"\"\n",
    "    # Collect and sort all dates from the dataframe's \"Date\" column\n",
    "    dates = df.select(\"Date\").orderBy(\"Date\").rdd.flatMap(lambda x: x).collect()\n",
    "    \n",
    "    # Initialize a dictionary to count occurrences of each period between data points\n",
    "    dic = {}\n",
    "\n",
    "    # Iterate through dates to calculate day differences between consecutive dates\n",
    "    for i in range(len(dates) - 1):\n",
    "        dif = (dates[i + 1] - dates[i]).days  \n",
    "\n",
    "        # We increment the count of this difference in the dictionary if it already exists. Otherwise, the difference is added to the dictionary.\n",
    "        if dif in dic:\n",
    "            dic[int(dif)] += 1\n",
    "        else:\n",
    "            dic[int(dif)] = 1\n",
    "        \n",
    "    # Return the dictionary containing frequency of each period\n",
    "    return dic    "
   ]
  },
  {
   "cell_type": "markdown",
   "metadata": {},
   "source": [
    "<p style=\"text-align: left; color: #555; font-size: 16px;\">\n",
    "    We observe that for our 5 stocks, the frequencies are consistent across the data. <br>\n",
    "    The most common time interval in our dataset is 1 day, followed by intervals of 3 and 4 days. Additionally, there is a single instance of a 1-week interval for each stock.\n",
    "</p>\n"
   ]
  },
  {
   "cell_type": "code",
   "execution_count": 74,
   "metadata": {},
   "outputs": [
    {
     "name": "stdout",
     "output_type": "stream",
     "text": [
      "AAPL\n",
      "{1: 2941, 3: 675, 4: 101, 2: 34, 5: 1}\n",
      "NVDA\n",
      "{1: 2941, 3: 675, 4: 101, 2: 34, 5: 1}\n",
      "MSFT\n",
      "{1: 2941, 3: 675, 4: 101, 2: 34, 5: 1}\n",
      "AMZN\n",
      "{1: 2941, 3: 675, 4: 101, 2: 34, 5: 1}\n",
      "GOOG\n",
      "{1: 2941, 3: 675, 4: 101, 2: 34, 5: 1}\n"
     ]
    }
   ],
   "source": [
    "# Display the result of period analysis\n",
    "for i in data_spark:\n",
    "    print(i)\n",
    "    print(period_data_points(data_spark[i]))"
   ]
  },
  {
   "cell_type": "markdown",
   "metadata": {},
   "source": [
    "#### `descriptive_stat() `\n",
    "\n",
    "We want to display descriptive statistics such as \"mean, max, min, and standard deviation.\" The function **`descriptive_stat()`**  implemented below takes a Spark DataFrame as an argument and displays the descriptive statistics for each column. \n",
    "\n",
    "To achieve this, we use the **`describe()`**  function, which returns a new DataFrame that we then display using the **`show()`** function.\n"
   ]
  },
  {
   "cell_type": "code",
   "execution_count": 17,
   "metadata": {},
   "outputs": [],
   "source": [
    "def descriptive_stat(df):\n",
    "    \"\"\"\n",
    "    Display descriptive statistics (mean, min, max, standard deviation) for each column of the Spark DataFrame.\n",
    "    \n",
    "    Parameters:\n",
    "    df : A Spark DataFrame\n",
    "    \"\"\"\n",
    "    # Call the describe function on the Spark DataFrame to get summary statistics\n",
    "    df.describe().show()"
   ]
  },
  {
   "cell_type": "code",
   "execution_count": 76,
   "metadata": {},
   "outputs": [
    {
     "name": "stdout",
     "output_type": "stream",
     "text": [
      "AAPL\n",
      "+-------+-----------------+------------------+------------------+------------------+--------------------+\n",
      "|summary|            Close|              High|               Low|              Open|              Volume|\n",
      "+-------+-----------------+------------------+------------------+------------------+--------------------+\n",
      "|  count|             3753|              3753|              3753|              3753|                3753|\n",
      "|   mean|66.57907198868591|   67.229665907397| 65.86347891410776|  66.5280626757868|2.3094598268052226E8|\n",
      "| stddev|64.43050702799839| 65.04287896924818| 63.74107519144612|  64.3642988187531|2.1824140960776895E8|\n",
      "|    min|5.785830497741699|5.9048290740919605| 5.731602983925352| 5.795469579269456|            24048300|\n",
      "|    max|237.3300018310547|237.80999755859372|234.19234018879644|235.94700263838573|          1880998000|\n",
      "+-------+-----------------+------------------+------------------+------------------+--------------------+\n",
      "\n",
      "NVDA\n",
      "+-------+------------------+------------------+------------------+------------------+--------------------+\n",
      "|summary|             Close|              High|               Low|              Open|              Volume|\n",
      "+-------+------------------+------------------+------------------+------------------+--------------------+\n",
      "|  count|              3753|              3753|              3753|              3753|                3753|\n",
      "|   mean|13.289300668451617| 13.53144816253237|13.024468612234172|13.289758342121589| 4.986877993605116E8|\n",
      "| stddev|26.606803139148493|27.107469203154864|26.069338312545653|26.632266103332235|3.0647201355782676E8|\n",
      "|    min|0.2035929560661316|0.2074905597302554|0.1983196806959544|0.1999245728315959|            45644000|\n",
      "|    max| 148.8697509765625| 152.8794696932069|146.24991134304443| 149.3397202101669|          3692928000|\n",
      "+-------+------------------+------------------+------------------+------------------+--------------------+\n",
      "\n",
      "MSFT\n",
      "+-------+------------------+------------------+------------------+------------------+--------------------+\n",
      "|summary|             Close|              High|               Low|              Open|              Volume|\n",
      "+-------+------------------+------------------+------------------+------------------+--------------------+\n",
      "|  count|              3753|              3753|              3753|              3753|                3753|\n",
      "|   mean|128.36099892414762|129.54397200075985|127.05568356059833| 128.3329574524517| 3.624858233413269E7|\n",
      "| stddev|123.66459744130408|124.77261644065416|122.44212100003512| 123.6622781362039|2.0861940773591056E7|\n",
      "|    min|17.517593383789062| 17.75359861337677| 17.30442940120044|17.578499144784992|             7425600|\n",
      "|    max| 466.7187805175781| 467.5073677076921| 463.6243572737453|466.15979611649647|           319317900|\n",
      "+-------+------------------+------------------+------------------+------------------+--------------------+\n",
      "\n",
      "AMZN\n",
      "+-------+-----------------+-----------------+-----------------+------------------+-------------------+\n",
      "|summary|            Close|             High|              Low|              Open|             Volume|\n",
      "+-------+-----------------+-----------------+-----------------+------------------+-------------------+\n",
      "|  count|             3753|             3753|             3753|              3753|               3753|\n",
      "|   mean|70.59064879634684|71.40980352124245| 69.7290522759354| 70.60717441442964| 8.34791512390088E7|\n",
      "| stddev|60.21409711155283|60.92714053978748|59.48884648142866| 60.24370541928102|5.169892595385947E7|\n",
      "|    min|5.430500030517578|5.564499855041504|5.289999961853027| 5.296500205993652|           17626000|\n",
      "|    max|214.1000061035156|215.8999938964844|210.8800048828125|214.16000366210935|          848422000|\n",
      "+-------+-----------------+-----------------+-----------------+------------------+-------------------+\n",
      "\n",
      "GOOG\n",
      "+-------+------------------+------------------+------------------+------------------+-------------------+\n",
      "|summary|             Close|              High|               Low|              Open|             Volume|\n",
      "+-------+------------------+------------------+------------------+------------------+-------------------+\n",
      "|  count|              3753|              3753|              3753|              3753|               3753|\n",
      "|   mean| 60.51459531176735| 61.11471078188586|59.895214531681766| 60.48748379474606|5.331666013642419E7|\n",
      "| stddev| 46.42311464555401| 46.91774162043369| 45.93107442896911| 46.40096902227434|4.885122370828014E7|\n",
      "|    min|10.822154998779297|10.976270891630929|10.761600430837913|10.877745413524528|             158434|\n",
      "|    max|192.18869018554688|192.83709397055367| 190.1536722121045|191.28091395049435|          595214680|\n",
      "+-------+------------------+------------------+------------------+------------------+-------------------+\n",
      "\n"
     ]
    }
   ],
   "source": [
    "# We call our function to extract key statistics from our Spark DataFrame\n",
    "for i in data_spark:\n",
    "    print(i)\n",
    "    descriptive_stat(data_spark[i])"
   ]
  },
  {
   "cell_type": "markdown",
   "metadata": {},
   "source": [
    "#### `missing_values()`\n",
    "\n",
    "We want to count the number of `null` values per column in the Spark DataFrame. The function **`missing_values()`** implemented below takes a Spark DataFrame as a parameter and displays a new DataFrame with the number of missing values per column. \n",
    "\n",
    "To achieve this, we will first import the `functions` module from PySpark in order to use certain functions for DataFrame manipulation. Our function will iterate over each column of our DataFrame in order to apply an expression that will later allow us to count the number of missing values for each one. \n",
    "\n",
    "This expression is composed of several functions from the `functions` module:\n",
    "- **`col()`**: This function takes the name of the column `c` as an argument and returns a reference to the column that we will use for the following operations.\n",
    "- **`isNull()`**: This function allows us to check whether the values in column `c` are null.\n",
    "- **`when()`**: This function takes a condition to verify as an argument, as well as a value to return when the condition is met. In our function, it returns a new DataFrame that contains the value 1 (chosen arbitrarily) every time the condition is satisfied.\n",
    "- **`count()`**: This function counts the number of elements in the DataFrame returned by `when()`.\n",
    "- **`alias()`**: This function takes a **string** as an argument and allows us to keep the column names in the new DataFrame.\n",
    "\n",
    "This function creates a counting expression for each column in the DataFrame and stores them in a list called `null`. To execute the different expressions, we use the `select()` function, which takes our list of expressions as an argument. The returned DataFrame will be displayed using the `show()` function.\n"
   ]
  },
  {
   "cell_type": "code",
   "execution_count": 10,
   "metadata": {},
   "outputs": [],
   "source": [
    "def missing_values(df):\n",
    "    \"\"\"\n",
    "    Display the number of missing values for each column in the Spark DataFrame\n",
    "    \n",
    "    Parameters:\n",
    "    df : A Spark DataFrame\n",
    "    \"\"\"\n",
    "    # Create a list to store expressions that count the null values for each column\n",
    "    null = []\n",
    "    \n",
    "    # Iterate over each column in the DataFrame\n",
    "    for c in df.columns:\n",
    "        # For each column, add a count expression to the list\n",
    "        # This expression uses 'when' to select null values in the column, then counts them\n",
    "        null.append(F.count(F.when(F.col(c).isNull(), 1)).alias(c))\n",
    "    \n",
    "    # Apply the count expressions on the DataFrame and display the result\n",
    "    # The resulting DataFrame will show the number of null values for each column\n",
    "    df.select(null).show()"
   ]
  },
  {
   "cell_type": "code",
   "execution_count": 78,
   "metadata": {},
   "outputs": [
    {
     "name": "stdout",
     "output_type": "stream",
     "text": [
      "AAPL\n",
      "+----+-----+----+---+----+------+\n",
      "|Date|Close|High|Low|Open|Volume|\n",
      "+----+-----+----+---+----+------+\n",
      "|   0|    0|   0|  0|   0|     0|\n",
      "+----+-----+----+---+----+------+\n",
      "\n",
      "NVDA\n",
      "+----+-----+----+---+----+------+\n",
      "|Date|Close|High|Low|Open|Volume|\n",
      "+----+-----+----+---+----+------+\n",
      "|   0|    0|   0|  0|   0|     0|\n",
      "+----+-----+----+---+----+------+\n",
      "\n",
      "MSFT\n",
      "+----+-----+----+---+----+------+\n",
      "|Date|Close|High|Low|Open|Volume|\n",
      "+----+-----+----+---+----+------+\n",
      "|   0|    0|   0|  0|   0|     0|\n",
      "+----+-----+----+---+----+------+\n",
      "\n",
      "AMZN\n",
      "+----+-----+----+---+----+------+\n",
      "|Date|Close|High|Low|Open|Volume|\n",
      "+----+-----+----+---+----+------+\n",
      "|   0|    0|   0|  0|   0|     0|\n",
      "+----+-----+----+---+----+------+\n",
      "\n",
      "GOOG\n",
      "+----+-----+----+---+----+------+\n",
      "|Date|Close|High|Low|Open|Volume|\n",
      "+----+-----+----+---+----+------+\n",
      "|   0|    0|   0|  0|   0|     0|\n",
      "+----+-----+----+---+----+------+\n",
      "\n"
     ]
    }
   ],
   "source": [
    "# We check if there are missing values ​​in our columns\n",
    "for i in data_spark:\n",
    "    print(i)\n",
    "    missing_values(data_spark[i])"
   ]
  },
  {
   "cell_type": "markdown",
   "metadata": {},
   "source": [
    "#### `correlation()`\n",
    "\n",
    "We aim to measure the linear relationship between pairs of columns in a Spark DataFrame. The function **`correlation()`** implemented below takes a Spark DataFrame as an argument and returns the **Pearson correlation coefficient** for each pair of columns.\n",
    "\n",
    "To achieve this, we use the **`stat.corr()`** function from PySpark, which computes the Pearson correlation coefficient between two columns. This coefficient is a numeric value between -1 and 1, indicating the strength and direction of the linear relationship between the variables:\n",
    "- **1**: The variables are perfectly positively correlated.\n",
    "- **0**: There is no linear correlation between the variables.\n",
    "- **-1**: The variables are perfectly inversely correlated.\n",
    "\n",
    "The function iterates over pairs of columns in the DataFrame and computes the correlation for each pair, displaying the results for each combination.\n",
    "\n",
    "Since we are dealing with multiple columns, the function processes each pair sequentially and applies **`stat.corr()`** to calculate the correlation for each pair. The results are then printed out for review.\n",
    "or review."
   ]
  },
  {
   "cell_type": "code",
   "execution_count": 35,
   "metadata": {},
   "outputs": [],
   "source": [
    "def correlation(df):\n",
    "    \"\"\"\n",
    "    Display Pearson correlation coefficient for selected column pairs\n",
    "\n",
    "    Parameters:\n",
    "    df : A Spark DataFrame\n",
    "    \"\"\"\n",
    "    # Display Pearson correlation coefficient for selected column pairs\n",
    "    print(\"Correlation between \\\"High\\\" and \\\"Low\\\":\", df.stat.corr(\"High\", \"Low\"))\n",
    "    print(\"Correlation between \\\"Open\\\" and \\\"Close\\\":\", df.stat.corr(\"Open\", \"Close\"))\n",
    "    print(\"Correlation between \\\"Volume\\\" and \\\"Close\\\":\", df.stat.corr(\"Volume\", \"Close\"))\n",
    "    print(\"Correlation between \\\"High\\\" and \\\"Volume\\\":\", df.stat.corr(\"High\", \"Volume\"))\n",
    "    print(\"Correlation between \\\"Low\\\" and \\\"Volume\\\":\", df.stat.corr(\"Low\", \"Volume\"))\n",
    "    print(\"Correlation between \\\"Open\\\" and \\\"High\\\":\", df.stat.corr(\"Open\", \"High\"))"
   ]
  },
  {
   "cell_type": "markdown",
   "metadata": {},
   "source": [
    " We observe that for each stock, the columns \"High\" and \"Low\", \"Open\" and \"Close\", and \"Open\" and \"High\" are highly correlated. Other relationships are weakly inversely correlated.\n",
    "\n"
   ]
  },
  {
   "cell_type": "code",
   "execution_count": 36,
   "metadata": {},
   "outputs": [
    {
     "name": "stdout",
     "output_type": "stream",
     "text": [
      "\n",
      "AAPL:\n",
      "\n",
      "Correlation between \"High\" and \"Low\": 0.999879314157794\n",
      "Correlation between \"Open\" and \"Close\": 0.9998034069403012\n",
      "Correlation between \"Volume\" and \"Close\": -0.5426710931421932\n",
      "Correlation between \"High\" and \"Volume\": -0.5417673097839374\n",
      "Correlation between \"Low\" and \"Volume\": -0.5434698814333213\n",
      "Correlation between \"Open\" and \"High\": 0.9999096809085988\n",
      "\n",
      "NVDA:\n",
      "\n",
      "Correlation between \"High\" and \"Low\": 0.9997804556903458\n",
      "Correlation between \"Open\" and \"Close\": 0.9995732237317384\n",
      "Correlation between \"Volume\" and \"Close\": -0.12175382171842715\n",
      "Correlation between \"High\" and \"Volume\": -0.11996743283017927\n",
      "Correlation between \"Low\" and \"Volume\": -0.12318268832860232\n",
      "Correlation between \"Open\" and \"High\": 0.9998572178877109\n",
      "\n",
      "MSFT:\n",
      "\n",
      "Correlation between \"High\" and \"Low\": 0.999900564063271\n",
      "Correlation between \"Open\" and \"Close\": 0.9998261462242797\n",
      "Correlation between \"Volume\" and \"Close\": -0.3752039158278674\n",
      "Correlation between \"High\" and \"Volume\": -0.37282972481424054\n",
      "Correlation between \"Low\" and \"Volume\": -0.3769629694585393\n",
      "Correlation between \"Open\" and \"High\": 0.9999280625156887\n",
      "\n",
      "AMZN:\n",
      "\n",
      "Correlation between \"High\" and \"Low\": 0.9998222955921118\n",
      "Correlation between \"Open\" and \"Close\": 0.9996958183965299\n",
      "Correlation between \"Volume\" and \"Close\": -0.23235657152100014\n",
      "Correlation between \"High\" and \"Volume\": -0.22897720980026728\n",
      "Correlation between \"Low\" and \"Volume\": -0.23560579973969847\n",
      "Correlation between \"Open\" and \"High\": 0.9998758923055725\n",
      "\n",
      "GOOG:\n",
      "\n",
      "Correlation between \"High\" and \"Low\": 0.9998636873194802\n",
      "Correlation between \"Open\" and \"Close\": 0.9997437258392904\n",
      "Correlation between \"Volume\" and \"Close\": -0.5111175772062455\n",
      "Correlation between \"High\" and \"Volume\": -0.5095260630683077\n",
      "Correlation between \"Low\" and \"Volume\": -0.5120124648089615\n",
      "Correlation between \"Open\" and \"High\": 0.9998939714399878\n"
     ]
    }
   ],
   "source": [
    "# Display the Pearson correlation coefficient for selected column pairs for each stock\n",
    "for i in stocks:\n",
    "    print(\"\\n%s:\\n\" %i)\n",
    "    correlation(data_spark[i])"
   ]
  },
  {
   "cell_type": "markdown",
   "metadata": {},
   "source": [
    "### 2.2. Further Data Exploration"
   ]
  },
  {
   "cell_type": "markdown",
   "metadata": {},
   "source": [
    "#### 2.2.1. Added New Columns for Filtering\n",
    "---\n",
    " <p style=\"text-align: left; color: #555; font-size: 16px;\">\n",
    "    In this part, we will add the columns \"Week\", \"Month\" and \"Year\" so that we can filter our dataframes based on them.\n",
    "</p>\n"
   ]
  },
  {
   "cell_type": "markdown",
   "metadata": {},
   "source": [
    "#### `add_col_month_year()`\n",
    "\n",
    "We create the \"Month\" and \"Year\" columns for each row of our Spark DataFrame in order to filter the data based on these criteria. The function **`add_col_month_year()`** extracts the month and year from the \"Date\" column into new columns.\n",
    "\n",
    "To achieve this, we use the PySpark **`withColumn()`** function to add the new columns. These columns are created using the **`month()`** and **`year()`** functions to extract the month and year from the \"Date\" column.\n"
   ]
  },
  {
   "cell_type": "code",
   "execution_count": 16,
   "metadata": {},
   "outputs": [],
   "source": [
    "def add_col_month_year(df):\n",
    "    \"\"\"\n",
    "    Add \"Month\" and \"Year\" columns to a Spark DataFrame based on the \"Date\" column\n",
    "\n",
    "    Parameters:\n",
    "    df : A Spark DataFrame containing a \"Date\" column\n",
    "\n",
    "    Returns:\n",
    "    df : The updated Spark DataFrame\n",
    "    \"\"\"\n",
    "    # Extract the month from the \"Date\" column and create a new column \"Month\"\n",
    "    df = df.withColumn(\"Month\", month(df[\"Date\"]))\n",
    "    \n",
    "    # Extract the year from the \"Date\" column and create a new column \"Year\"\n",
    "    df = df.withColumn(\"Year\", year(df[\"Date\"]))\n",
    "    \n",
    "    # Return the updated DataFrame\n",
    "    return df"
   ]
  },
  {
   "cell_type": "code",
   "execution_count": 17,
   "metadata": {},
   "outputs": [],
   "source": [
    "# Iterate over each stock\n",
    "for i in stocks:\n",
    "    # Apply the \"add_col_month_year\" function to the DataFrame corresponding to the stock\n",
    "    data_spark[i] = add_col_month_year(data_spark[i])"
   ]
  },
  {
   "cell_type": "markdown",
   "metadata": {},
   "source": [
    "#### `add_week_col()`\n",
    "\n",
    "We create a \"Week\" column in our Spark DataFrame to organize and analyze data by weeks. The function **`add_week_col()`** extracts the week number from the \"Date\" column and adds it as a new column.\n",
    "\n",
    "To achieve this, we use the PySpark **`withColumn()`** function to add the \"Week\" column. The week number is extracted using the **`weekofyear()`** function, which computes the week of the year for each date.\n"
   ]
  },
  {
   "cell_type": "code",
   "execution_count": 18,
   "metadata": {},
   "outputs": [],
   "source": [
    "def add_week_col(df):\n",
    "    \"\"\"\n",
    "    Add a \"Week\" column to a Spark DataFrame\n",
    "\n",
    "    Parameters:\n",
    "    df : A Spark DataFrame\n",
    "\n",
    "    Returns:\n",
    "    df_week : The updated Spark DataFrame with the new \"Week\" column\n",
    "    \"\"\"\n",
    "    # Extract the week of the year from the \"Date\" column and create a new column\n",
    "    df_week = df.withColumn(\"Week\", weekofyear(df[\"Date\"]))\n",
    "    \n",
    "    return df_week"
   ]
  },
  {
   "cell_type": "code",
   "execution_count": 19,
   "metadata": {},
   "outputs": [],
   "source": [
    "# We add a \"Week\" column to our actions \n",
    "for i in stocks:\n",
    "    data_spark[i] = add_week_col(data_spark[i])"
   ]
  },
  {
   "cell_type": "markdown",
   "metadata": {},
   "source": [
    "#### 2.2.2. Technical and Business Questions\n",
    "---\n",
    "\n",
    " <p style=\"text-align: left; color: #555; font-size: 16px;\">\n",
    "    In this part, we will answer technical and business questions to gain a good understanding of the data.\n",
    "</p>\n"
   ]
  },
  {
   "cell_type": "markdown",
   "metadata": {},
   "source": [
    "#### What is the average of the opening and closing prices for each stock price and for different time periods (month, year)?"
   ]
  },
  {
   "cell_type": "markdown",
   "metadata": {},
   "source": [
    "#### `average_open_close_price()`\n",
    "\n",
    "We compute the average closing price for each year and each month in the Spark DataFrame. The function **`average_open_close_price`** calculates two distinct DataFrames: one with yearly averages and the other with monthly averages.\n",
    "\n",
    "To achieve this, we use the **`groupBy()`** function:\n",
    "- For yearly averages, we group the data by the \"Year\" column.\n",
    "- For monthly averages, we group the data by both the \"Year\" and \"Month\" columns.\n",
    "\n",
    "After grouping, we calculate the average of the \"Close\" column using the **`avg()`** function. Then, we rename the resulting averages to \"Avg_Close\" using the **`alias()`** function.\n",
    "\n",
    "The function returns two DataFrames as output. The first, **`df_year`**, contains the average closing prices calculated for each year. The second, **`df_month`**, provides the average closing prices for each month within each year. These outputs allow for a comprehensive analysis of closing price trends over time. \n"
   ]
  },
  {
   "cell_type": "code",
   "execution_count": 13,
   "metadata": {
    "editable": true,
    "slideshow": {
     "slide_type": ""
    },
    "tags": []
   },
   "outputs": [],
   "source": [
    "def average_open_close_price(df):\n",
    "    \"\"\"\n",
    "    Calculate the average closing and opening prices per year and per month for a given Spark DataFrame\n",
    "\n",
    "\n",
    "    Returns:\n",
    "    df_year : A Spark DataFrame with the average closing and opening prices per year\n",
    "    df_month : A Spark DataFrame with the average closing and opening prices per month and year\n",
    "    \"\"\"\n",
    "    # Group the data by year and calculate the average of the \"Close\" and \"Open\" columns\n",
    "    df_year = (df.orderBy(\"Year\").groupBy(\"Year\").agg(avg(\"Close\").alias(\"Avg_Close\"), avg(\"Open\").alias(\"Avg_Open\")))\n",
    "    \n",
    "    # Group the data by year and month, then calculate the average of the \"Close\" and \"Open\" columns\n",
    "    df_month = (df.orderBy(\"Year\").groupBy(\"Year\", \"Month\").agg(avg(\"Close\").alias(\"Avg_Close\"), avg(\"Open\").alias(\"Avg_Open\")))\n",
    "    \n",
    "    return df_year, df_month\n"
   ]
  },
  {
   "cell_type": "code",
   "execution_count": 14,
   "metadata": {},
   "outputs": [
    {
     "name": "stdout",
     "output_type": "stream",
     "text": [
      "AAPL\n",
      "+----+------------------+------------------+\n",
      "|Year|         Avg_Close|          Avg_Open|\n",
      "+----+------------------+------------------+\n",
      "|2010| 7.828191910471235| 7.831661233671192|\n",
      "|2011|10.966243952039688|10.967964266929078|\n",
      "|2012|17.396579025268554|17.414853767618805|\n",
      "|2013|14.560661804108392| 14.57575445999872|\n",
      "|2014| 20.37810750991579|20.368198357097967|\n",
      "|2015|26.966094630105154|26.996546808121316|\n",
      "|2016| 23.98571823513697| 23.96354681889932|\n",
      "|2017| 35.17249008573859| 35.14787691619906|\n",
      "|2018| 44.84062805783701| 44.85461912790489|\n",
      "|2019| 50.17472621372768|50.081506652919785|\n",
      "|2020| 92.93905274764352| 92.86208054372875|\n",
      "|2021|138.34601069253588|138.22055137841562|\n",
      "|2022| 152.7753449398208|152.74354084275075|\n",
      "|2023| 171.2819959716797|170.99214677066539|\n",
      "|2024| 202.9016378823813|  202.715425299893|\n",
      "+----+------------------+------------------+\n",
      "\n",
      "NVDA\n",
      "+----+-------------------+-------------------+\n",
      "|Year|          Avg_Close|           Avg_Open|\n",
      "+----+-------------------+-------------------+\n",
      "|2010|0.31096466157644514|0.31126671836601094|\n",
      "|2011|0.38718281946485006| 0.3877559981719702|\n",
      "|2012|0.30989920473098753| 0.3103187752837177|\n",
      "|2013| 0.3311608172361813| 0.3307985257312979|\n",
      "|2014| 0.4413506043335748|0.44125774002775353|\n",
      "|2015| 0.5743660115533404| 0.5734529915561953|\n",
      "|2016|  1.320362463593483| 1.3171586511124018|\n",
      "|2017| 3.6986320218242024|  3.700378924207182|\n",
      "|2018|  5.753316050031746|  5.761839406464524|\n",
      "|2019|  4.338581043576437|  4.334914759729837|\n",
      "|2020|  9.859558740623383|  9.856843015249781|\n",
      "|2021| 19.483434302466257| 19.477771169642153|\n",
      "|2022| 18.544184962116866| 18.554399945294673|\n",
      "|2023| 36.552497608184815| 36.498441607629026|\n",
      "|2024| 105.13603027145584| 105.19643994088113|\n",
      "+----+-------------------+-------------------+\n",
      "\n",
      "MSFT\n",
      "+----+------------------+------------------+\n",
      "|Year|         Avg_Close|          Avg_Open|\n",
      "+----+------------------+------------------+\n",
      "|2010|20.606364552936856|20.618586508361364|\n",
      "|2011|20.315688965812562|20.309766950624862|\n",
      "|2012|23.890216926574706|23.895908931248396|\n",
      "|2013| 26.84081480238173|26.801312941618885|\n",
      "|2014|36.086492651984805| 36.07283525589046|\n",
      "|2015| 40.76544723813496|  40.7167914655993|\n",
      "|2016|49.549784493824795|49.523821584215796|\n",
      "|2017| 66.17243452946029| 66.14512310802412|\n",
      "|2018|  94.6607858422268| 94.74386009417796|\n",
      "|2019|124.15009210980128|124.10964078677908|\n",
      "|2020|186.04139046047044| 185.9299262346717|\n",
      "|2021| 268.5313872685508| 268.2658656765954|\n",
      "|2022|263.74951913537257| 263.9327935390446|\n",
      "|2023|  311.033426940918|  310.786838375552|\n",
      "|2024| 417.6795158881646|417.81330040735253|\n",
      "+----+------------------+------------------+\n",
      "\n",
      "AMZN\n",
      "+----+------------------+------------------+\n",
      "|Year|         Avg_Close|          Avg_Open|\n",
      "+----+------------------+------------------+\n",
      "|2010| 6.957019838075789| 6.947918657272581|\n",
      "|2011| 9.833601175792634| 9.833484116054716|\n",
      "|2012| 11.01518200302124| 11.00055197906494|\n",
      "|2013|14.901579402741932|14.893755954409402|\n",
      "|2014|16.627551608615452| 16.63992256209964|\n",
      "|2015| 23.90691463909452| 23.90624807751368|\n",
      "|2016| 34.97615664345877|34.987829427870494|\n",
      "|2017| 48.40835056076962| 48.41378091151021|\n",
      "|2018| 82.08630852870257| 82.20363548552372|\n",
      "|2019|  89.4594602433462| 89.43730956789047|\n",
      "|2020|134.04275452383894| 134.0502095279015|\n",
      "|2021|167.19334932357546|167.28632917858306|\n",
      "|2022| 126.0988188055882|126.31807976224982|\n",
      "|2023| 121.3728003540039|    121.2083203125|\n",
      "|2024|181.04030308578953|181.03865791089606|\n",
      "+----+------------------+------------------+\n",
      "\n",
      "GOOG\n",
      "+----+------------------+------------------+\n",
      "|Year|         Avg_Close|          Avg_Open|\n",
      "+----+------------------+------------------+\n",
      "|2010|13.292811253714182|13.309907734519864|\n",
      "|2011|14.120500526730977|14.125403008637603|\n",
      "|2012|15.953080108642578|15.952434847674438|\n",
      "|2013| 21.94466955699618|  21.9292196579848|\n",
      "|2014| 27.88995309103103|27.935108644848395|\n",
      "|2015|29.992517948150635| 29.99509038326401|\n",
      "|2016| 37.04124250866118| 37.05348621669074|\n",
      "|2017| 45.92403234048668| 45.89116838286526|\n",
      "|2018|55.461976784633926|55.478366066026936|\n",
      "|2019| 59.20691668798053| 59.13800252501135|\n",
      "|2020| 73.80500194866195| 73.71347139333906|\n",
      "|2021|125.08125750223796|124.96188986449604|\n",
      "|2022| 114.7812983296307| 114.8882267526734|\n",
      "|2023|119.18362191772461| 118.9263821457338|\n",
      "|2024|162.75685707521646|162.73027204237263|\n",
      "+----+------------------+------------------+\n",
      "\n"
     ]
    }
   ],
   "source": [
    "# Iterate over each stock in the list\n",
    "for i in stocks:\n",
    "    # Calculate yearly and monthly average closing prices for the current stock\n",
    "    year, month = average_open_close_price(data_spark[i]) \n",
    "    \n",
    "    # stock name\n",
    "    print(i)\n",
    "    year.show()\n",
    "    # We display the first and last 40 lines of the spark dataframe \"month\"\n",
    "    show_first_last_40_rows(month)\n"
   ]
  },
  {
   "cell_type": "markdown",
   "metadata": {},
   "source": [
    "##### Interpretation\n",
    "\n",
    "**AAPL**:  \n",
    "Growth started in 2016, following fluctuations between 2010 and 2015. The launch of new products and the expansion of services boosted growth, after periods of uncertainty related to market saturation.\n",
    "\n",
    "**NVDA**:  \n",
    "There were significant variations between 2010 and 2022, with notable growth between 2015-2016 and 2019-2021. Since 2022, the stock has surged, driven by the demand for AI, reaching a price 340 times higher than in 2010.\n",
    "\n",
    "**MSFT**:  \n",
    "Solid growth since 2011, despite a slight dip in 2022. The expansion into cloud computing and services has supported strong stock performance, even after a small slowdown in 2022.\n",
    "\n",
    "**AMZN**:  \n",
    "Rapid growth from 2010 to 2021, followed by a decline in 2022-2023 due to the COVID-19 crisis. The retail sector was affected, but the stock rebounded in 2024 with the economic recovery.\n",
    "\n",
    "**GOOG**:  \n",
    "Like AMZN, Google's stock fell in 2022-2023, mainly due to reduced advertising spending and increased competition, but it has gradually recovered in 2024.\n"
   ]
  },
  {
   "cell_type": "markdown",
   "metadata": {},
   "source": [
    "#### How do the stock prices change day to day and month to month ?"
   ]
  },
  {
   "cell_type": "markdown",
   "metadata": {},
   "source": [
    "#### `stock_price_change()`\n",
    "\n",
    "We calculate the difference between \"Open\" and \"Close\" prices for each day and each month in the Spark DataFrame. The function **`stock_price_change()`** computes two distinct DataFrames: one with daily differences and the other with monthly average differences.\n",
    "\n",
    "To achieve this:\n",
    "- For daily differences, we use **`withColumn()`** to create a new column, `Open_Close_Diff_day`, which stores the difference between the \"Open\" and \"Close\" prices for each day. The data is then sorted by \"Date\".\n",
    "- For monthly averages, we also create a column for the difference between \"Open\" and \"Close\". We then group the data by \"Year\" and \"Month\" using **`groupBy()`** and calculate the average difference for each month with **`avg()`**.\n",
    "\n",
    "The function returns two DataFrames as output. The first, **`day_var`**, contains the daily differences sorted by \"Date\". The second, **`month_var`**, provides the monthly average differences grouped by year and month. These outputs allow for a detailed analysis of stock price changes over time.\n",
    "nd month.\n",
    " et mois.\n"
   ]
  },
  {
   "cell_type": "code",
   "execution_count": 12,
   "metadata": {},
   "outputs": [],
   "source": [
    "def stock_price_change(df):\n",
    "    \"\"\"\n",
    "    Calculate the difference between \"Open\" and \"Close\" prices for daily and monthly data\n",
    "\n",
    "    Parameters:\n",
    "    df : A Spark DataFrame\n",
    "\n",
    "    Returns:\n",
    "    day_var : DataFrame with the daily difference between \"Open\" and \"Close\"\n",
    "    month_var : DataFrame with the monthly average difference between \"Open\" and \"Close\" \n",
    "    \"\"\"\n",
    "    # Calculate the daily difference between \"Open\" and \"Close\" prices\n",
    "    day_var = df.withColumn(\"Open_Close_Diff_day\", df[\"Open\"] - df[\"Close\"]).orderBy(\"Date\")\n",
    "    \n",
    "    # Calculate the monthly average difference between \"Open\" and \"Close\" prices\n",
    "    month_var = df.withColumn(\"Open_Close_Diff\", df[\"Open\"] - df[\"Close\"]).orderBy(\"Year\").groupBy(\"Year\", \"Month\").agg(avg(\"Open_Close_Diff\").alias(\"Avg_Open_Close_Diff\"))\n",
    "    \n",
    "    return day_var, month_var"
   ]
  },
  {
   "cell_type": "markdown",
   "metadata": {},
   "source": [
    "#### What is the daily return of each stock?"
   ]
  },
  {
   "cell_type": "markdown",
   "metadata": {},
   "source": [
    "#### `daily_return_rate()`\n",
    "\n",
    "We want to calculate the daily return rate for a stock. The function **`daily_return_rate()`** takes a Spark DataFrame as an argument and calculates the daily return for each stock.\n",
    "\n",
    "To achieve this, the function uses **`withColumn()`** to create a new column **`Daily_Return_Rate`**.\n",
    "\n",
    "The function returns a DataFrame with the new column **`Daily_Return_Rate`**, which contains the daily return rate for each stock.\n"
   ]
  },
  {
   "cell_type": "code",
   "execution_count": 24,
   "metadata": {},
   "outputs": [],
   "source": [
    "def daily_return_rate(df):\n",
    "    \"\"\"\n",
    "    Calculate the daily return for the stock\n",
    "\n",
    "    Parameters:\n",
    "    df : A Spark DataFrame\n",
    "\n",
    "    Returns:\n",
    "    DataFrame with the \"Daily_Return\" column\n",
    "    \"\"\"\n",
    "    # Calculate the daily return\n",
    "    df_with_return = df.withColumn(\"Daily_Return_Rate\", (df[\"Close\"] - df[\"Open\"]) / df[\"Open\"])\n",
    "\n",
    "    return df_with_return\n"
   ]
  },
  {
   "cell_type": "code",
   "execution_count": 25,
   "metadata": {},
   "outputs": [],
   "source": [
    "# We update our spark dataframe with the new dataframe containing the column \"Daily_Return_Rate\"\n",
    "for i in stocks:\n",
    "    data_spark[i] =  daily_return_rate(data_spark[i])"
   ]
  },
  {
   "cell_type": "markdown",
   "metadata": {},
   "source": [
    "#### What are the stocks with the highest/Lowest/Average daily return?"
   ]
  },
  {
   "cell_type": "markdown",
   "metadata": {},
   "source": [
    "The program below calls the `descriptive_stat()` function, which was implemented earlier. \n",
    "This function calculates the minimum, maximum, and average values of the \"Daily_Return_Rate\" column for each stock.\n",
    "We can observe that the action \"NVDA\" is the one with the highest and lowest daily return, in addition to having the highest average.\n",
    ".\n"
   ]
  },
  {
   "cell_type": "code",
   "execution_count": 18,
   "metadata": {},
   "outputs": [
    {
     "name": "stdout",
     "output_type": "stream",
     "text": [
      "\n",
      "AAPL :\n",
      "\n",
      "+-------+--------------------+\n",
      "|summary|   Daily_Return_Rate|\n",
      "+-------+--------------------+\n",
      "|  count|                3753|\n",
      "|   mean|4.228036014594483...|\n",
      "| stddev|0.013710884429642821|\n",
      "|    min|-0.07257863789222015|\n",
      "|    max| 0.08696110215193661|\n",
      "+-------+--------------------+\n",
      "\n",
      "\n",
      "NVDA :\n",
      "\n",
      "+-------+--------------------+\n",
      "|summary|   Daily_Return_Rate|\n",
      "+-------+--------------------+\n",
      "|  count|                3753|\n",
      "|   mean|5.504595746812443E-4|\n",
      "| stddev|0.023209361860018922|\n",
      "|    min|-0.13207546108852852|\n",
      "|    max|  0.1491141553282914|\n",
      "+-------+--------------------+\n",
      "\n",
      "\n",
      "MSFT :\n",
      "\n",
      "+-------+--------------------+\n",
      "|summary|   Daily_Return_Rate|\n",
      "+-------+--------------------+\n",
      "|  count|                3753|\n",
      "|   mean|3.874138045876769E-4|\n",
      "| stddev|0.012493455608999166|\n",
      "|    min|-0.05924653353756428|\n",
      "|    max| 0.08102449737995214|\n",
      "+-------+--------------------+\n",
      "\n",
      "\n",
      "AMZN :\n",
      "\n",
      "+-------+--------------------+\n",
      "|summary|   Daily_Return_Rate|\n",
      "+-------+--------------------+\n",
      "|  count|                3753|\n",
      "|   mean|2.095339615998711E-4|\n",
      "| stddev|0.016165662170088066|\n",
      "|    min|-0.08561455407954012|\n",
      "|    max|  0.1221561051269018|\n",
      "+-------+--------------------+\n",
      "\n",
      "\n",
      "GOOG :\n",
      "\n",
      "+-------+--------------------+\n",
      "|summary|   Daily_Return_Rate|\n",
      "+-------+--------------------+\n",
      "|  count|                3753|\n",
      "|   mean|2.685147283159319E-4|\n",
      "| stddev|0.012932703766425347|\n",
      "|    min|-0.08012814470333264|\n",
      "|    max| 0.06654745604375617|\n",
      "+-------+--------------------+\n",
      "\n"
     ]
    }
   ],
   "source": [
    "# Loop through each stock\n",
    "for i in stocks:\n",
    "    print(\"\\n%s :\\n\" % i) \n",
    "    # Call the descriptive_stat function on \"Daily_Return_Rate\" for each stock\n",
    "    descriptive_stat(data_spark[i].select(\"Daily_Return_Rate\"))  \n"
   ]
  },
  {
   "cell_type": "markdown",
   "metadata": {},
   "source": [
    "##### Interpretation:\n",
    "\n",
    "**AAPL**:  \n",
    "Good return with moderate risk, making it a balanced investment.\n",
    "\n",
    "**MSFT**:  \n",
    "Balanced between return and risk, slightly below AAPL in terms of performance.\n",
    "\n",
    "**NVDA**:  \n",
    "Higher return potential but comes with significantly higher risk.\n",
    "\n",
    "**GOOG**:  \n",
    "Low return but low risk, suitable for cautious investors.\n",
    "\n",
    "**AMZN**:  \n",
    "Average low return with higher risk.\n"
   ]
  },
  {
   "cell_type": "markdown",
   "metadata": {},
   "source": [
    "#### What is the average daily return for each stocks for different periods (week, month and year) ? "
   ]
  },
  {
   "cell_type": "markdown",
   "metadata": {},
   "source": [
    "#### `return_rate()`\n",
    "\n",
    "We calculate the average daily return rates across three time periods: weekly, monthly, and yearly. The function **`return_rate()`** groups the data and computes the average `Daily_Return_Rate` for each period.\n",
    "\n",
    "To achieve this, we use the PySpark **`groupBy()`** function to group the data by specific time periods (Year, Month, Week) and calculate the average using the **`avg()`** function. Each resulting DataFrame is sorted by year for better readability and organization.\n",
    "eturn rate for each year.\n"
   ]
  },
  {
   "cell_type": "code",
   "execution_count": 13,
   "metadata": {},
   "outputs": [],
   "source": [
    "def return_rate(df):\n",
    "    \"\"\"\n",
    "    Calculate the average daily return for weekly, monthly, and yearly periods\n",
    "\n",
    "    Parameters:\n",
    "    df : A Spark DataFrame\n",
    "\n",
    "    Returns:\n",
    "    df_avg_week : The Spark DataFrame with the weekly average daily return\n",
    "    df_avg_month : The Spark DataFrame with the monthly average daily return\n",
    "    df_avg_year : The Spark DataFrame with the yearly average daily return\n",
    "    \"\"\"\n",
    "    # calculate the weekly average daily return\n",
    "    df_avg_week = df.orderBy(\"Year\").groupBy(\"Year\", \"Month\", \"Week\").agg(avg(\"Daily_Return_Rate\").alias(\"week_avg_daily_return\"))\n",
    "    \n",
    "    # calculate the monthly average daily return\n",
    "    df_avg_month = df.orderBy(\"Year\").groupBy(\"Year\", \"Month\").agg(avg(\"Daily_Return_Rate\").alias(\"month_avg_daily_return\"))\n",
    "    \n",
    "    # calculate the yearly average daily return\n",
    "    df_avg_year = df.orderBy(\"Year\").groupBy(\"Year\").agg(avg(\"Daily_Return_Rate\").alias(\"year_avg_daily_return\"))\n",
    "    \n",
    "    return df_avg_week, df_avg_month, df_avg_year\n"
   ]
  },
  {
   "cell_type": "markdown",
   "metadata": {},
   "source": [
    "### 2.3. More Functions\n",
    "<p style=\"text-align: left; color: #555; font-size: 16px;\">\n",
    "    In this section we will code more functions to help us in our analysis.\n",
    "</p>\n"
   ]
  },
  {
   "cell_type": "markdown",
   "metadata": {},
   "source": [
    "#### `moving_average()`\n",
    "\n",
    "We calculate the moving average of a given column over a specified number of points. The function **`moving_average()`** computes the moving average by considering the current value and the previous values within the defineintervalow.\n",
    "\n",
    "To achieve this, we use the PySpark **`Window.orderBy()`** function to define a window based on the \"Date\" column. The **`rowsBetween(-num_points + 1, 0)`** specification ensures that the window includes the current row and the previous rows up to the number of periods defined. Then, the **`avg()`** function calculates the moving average within the window. The result is added as a new column in the DataFrame, containing the calculated moving average for each row.\n"
   ]
  },
  {
   "cell_type": "code",
   "execution_count": null,
   "metadata": {},
   "outputs": [],
   "source": [
    "def moving_average(df, col_name, num_points):\n",
    "    \"\"\"\n",
    "    Calculate the moving average of a given column over a specified number of points\n",
    "\n",
    "    Parameters:\n",
    "    df : A Spark DataFrame\n",
    "    col_name : The name of the column\n",
    "    num_points : The number of periods over which to calculate the moving average \n",
    "\n",
    "    Returns:\n",
    "    df : The Spark DataFrame with a new column containing the moving average values\n",
    "    \"\"\"\n",
    "    # Define a window specification to calculate the moving average for each row\n",
    "    interval = Window.orderBy(\"Date\").rowsBetween(-num_points + 1, 0)\n",
    "    \n",
    "    # Calculate the moving average\n",
    "    df = df.withColumn(f\"{col_name}_moving_average\", avg(df[col_name]).over(interval))\n",
    "    \n",
    "    return df\n"
   ]
  },
  {
   "cell_type": "markdown",
   "metadata": {},
   "source": [
    "#### `correlation_df_values()`\n",
    "We aim to measure the linear relationship between pairs of columns in two Spark DataFrames. The `correlation()` function takes two DataFrames as arguments and returns the Pearson correlation coefficient for each pair of corresponding columns.\n",
    "\n",
    "To achieve this:\n",
    "\n",
    "- The columns in both DataFrames are renamed to avoid conflicts.\n",
    "- The DataFrames are joined on the \"Date\" column.\n",
    "- The `stat.corr()` function is used to calculate the correlation between each pair of corresponding columns.\n",
    "\n",
    "The Pearson correlation coefficient is a number between -1 and 1, indicating the strength and direction of the linear relationship between the variables:\n",
    "\n",
    "- **1**: Perfect positive correlation.\n",
    "- **0**: No linear correlation.\n",
    "- **-1**: Perfect negative correlation."
   ]
  },
  {
   "cell_type": "code",
   "execution_count": 10,
   "metadata": {},
   "outputs": [],
   "source": [
    "def correlation_df_values(df1, df2):\n",
    "    \"\"\"\n",
    "    Calculate Pearson correlation coefficients between corresponding columns\n",
    "    \n",
    "    Parameters:\n",
    "    df1 : A Spark DataFrame\n",
    "    df2 : A Spark DataFrame\n",
    "    \n",
    "    Output: Displays the correlation between corresponding columns\n",
    "    \"\"\"\n",
    "\n",
    "    # Renaming columns for df1\n",
    "    df1_renamed = df1.withColumnRenamed(\"Open\", \"Open_df1\")\n",
    "    df1_renamed = df1_renamed.withColumnRenamed(\"Close\", \"Close_df1\")\n",
    "    df1_renamed = df1_renamed.withColumnRenamed(\"High\", \"High_df1\")\n",
    "    df1_renamed = df1_renamed.withColumnRenamed(\"Low\", \"Low_df1\")\n",
    "    df1_renamed = df1_renamed.withColumnRenamed(\"Volume\", \"Volume_df1\")\n",
    "    \n",
    "    # Renaming columns for df2\n",
    "    df2_renamed = df2.withColumnRenamed(\"Open\", \"Open_df2\")\n",
    "    df2_renamed = df2_renamed.withColumnRenamed(\"Close\", \"Close_df2\")\n",
    "    df2_renamed = df2_renamed.withColumnRenamed(\"High\", \"High_df2\")\n",
    "    df2_renamed = df2_renamed.withColumnRenamed(\"Low\", \"Low_df2\")\n",
    "    df2_renamed = df2_renamed.withColumnRenamed(\"Volume\", \"Volume_df2\")\n",
    "\n",
    "\n",
    "    # Joining the two DataFrames on the \"Date\" column\n",
    "    df_joined = df1_renamed.join(df2_renamed, \"Date\", \"inner\")\n",
    "    \n",
    "    # Joining two DataFrames on the \"Date\" columnCalculate and display the correlation for each pair of columns\n",
    "    for column in [\"Open\", \"Close\", \"High\", \"Low\", \"Volume\"]:\n",
    "        correlation_value = df_joined.stat.corr(f\"{column}_df1\", f\"{column}_df2\")\n",
    "        print(f\"Correlation for the variable {column}: {correlation_value}\")\n"
   ]
  },
  {
   "cell_type": "markdown",
   "metadata": {},
   "source": [
    "#### `best_return_stock_name()`\n",
    "\n",
    "We calculate the return rate for each stock over the specified period (monthly or yearly) and return the stock with the highest return rate.\n",
    "\n",
    "To achieve this, the function **`best_return_stock_name()`** iterates through each stock in the `data_spark` dictionary. For each stock, it filters the data based on the start date and pear'). It then uses the **`return_rate()`** function to compute the average daily return rates over the specified period.\n",
    "\n",
    "Once the data is filtered and the return rates calculated, the function sorts the return rates in descending order to identify the stock with the highest return rate. The function updates the `best_stock_name` and `best_return` variables accordingly and returns the name of the stock with the highest return rate along with the value of the return rate.\n"
   ]
  },
  {
   "cell_type": "code",
   "execution_count": 26,
   "metadata": {},
   "outputs": [],
   "source": [
    "def best_return_stock_name(data_spark, start_date, period):\n",
    "    \"\"\"\n",
    "    We calculate the return rate for each stock over the specified period and return the stock with the highest return rate\n",
    "\n",
    "    Parameters:\n",
    "    data_spark : A dictionary containing our Spark DataFrames\n",
    "    start_date : The start date \n",
    "    period : The period to calculate the return rate\n",
    "\n",
    "    Returns:\n",
    "    best_stock_name : The stock with the highest return rate\n",
    "    best_return : The highest return rate for the given period\n",
    "    \"\"\"\n",
    "    # We initialize this variable with a very small float\n",
    "    best_return = -1000.0  \n",
    "    best_stock_name = None\n",
    "\n",
    "    # Loop through each stock in the dictionary to calculate the return rate\n",
    "    for stock, df in data_spark.items():\n",
    "        # Filter the data based on the start date and the chosen period\n",
    "        if period == 'month':\n",
    "            df_filtered = df.filter((F.month(df[\"Date\"]) == F.month(F.lit(start_date))) & (F.year(df[\"Date\"]) == F.year(F.lit(start_date))))\n",
    "        elif period == 'year':\n",
    "            df_filtered = df.filter(F.year(df[\"Date\"]) == F.year(F.lit(start_date)))\n",
    "        else:\n",
    "            raise ValueError(\"Error, please choose either 'month' or 'year'\")\n",
    "        \n",
    "        # Calculate the average daily return rates for each period using the previously defined function\n",
    "        weekly_return, monthly_return, yearly_return = return_rate(df_filtered)\n",
    "\n",
    "        # Select the relevant return DataFrame based on the chosen period\n",
    "        if period == \"month\":\n",
    "            df_result = monthly_return  \n",
    "        elif period == \"year\":\n",
    "            df_result = yearly_return  \n",
    "        \n",
    "        # Identify the stock with the best return rate in the selected period\n",
    "        best_for_stock = df_result.orderBy(F.desc(f\"{period}_avg_daily_return\")).first()\n",
    "        \n",
    "        # Update the best stock if a higher return is found\n",
    "        if best_for_stock[f\"{period}_avg_daily_return\"] > best_return:\n",
    "            best_return = best_for_stock[f\"{period}_avg_daily_return\"]\n",
    "            best_stock_name = stock\n",
    "    \n",
    "    return best_stock_name, best_return"
   ]
  },
  {
   "cell_type": "code",
   "execution_count": 27,
   "metadata": {},
   "outputs": [
    {
     "name": "stdout",
     "output_type": "stream",
     "text": [
      "The stock with the best return rate is \"NVDA\", with a return rate of 0.007012120205735495.\n"
     ]
    }
   ],
   "source": [
    "best_stock_name, best_return = best_return_stock_name(data_spark, \"2024-01-01\", \"month\")\n",
    "print(f\"The stock with the best return rate is \\\"{best_stock_name}\\\", with a return rate of {best_return}.\")"
   ]
  },
  {
   "cell_type": "markdown",
   "metadata": {},
   "source": [
    "### 2.4. Insights\n",
    "<p style=\"text-align: left; color: #555; font-size: 16px;\">\n",
    "    In this part, we will add additional parameters that will allow us to deepen our analysis. \n",
    "We will focus on the following 8 insights: RSI, MACD, OBV, ROC, VWAP, PPO, CMF, PVT.\n",
    "These insights can be classified into 4 distinct categories depending on what they highlight.\n",
    "</p>\n",
    "\n",
    "<table border=\"1\" style=\"border-collapse: collapse; width: 100%;\">\n",
    "  <thead>\n",
    "    <tr>\n",
    "      <th style=\"padding: 8px; text-align: left;\">Part</th>\n",
    "      <th style=\"padding: 8px; text-align: left;\">What They Show</th>\n",
    "      <th style=\"padding: 8px; text-align: left;\">Indicators</th>\n",
    "    </tr>\n",
    "  </thead>\n",
    "  <tbody>\n",
    "    <tr>\n",
    "      <td style=\"padding: 8px;\">2.4.1.</td>\n",
    "      <td style=\"padding: 8px;\">Overbought / Oversold</td>\n",
    "      <td style=\"padding: 8px;\">RSI, PPO</td>\n",
    "    </tr>\n",
    "    <tr>\n",
    "      <td style=\"padding: 8px;\">2.4.2.</td>\n",
    "      <td style=\"padding: 8px;\">Trend Direction / Strength</td>\n",
    "      <td style=\"padding: 8px;\">MACD, VWAP</td>\n",
    "    </tr>\n",
    "    <tr>\n",
    "      <td style=\"padding: 8px;\">2.4.3.</td>\n",
    "      <td style=\"padding: 8px;\">Buying / Selling Pressure</td>\n",
    "      <td style=\"padding: 8px;\">OBV, CMF, PVT</td>\n",
    "    </tr>\n",
    "    <tr>\n",
    "      <td style=\"padding: 8px;\">2.4.4.</td>\n",
    "      <td style=\"padding: 8px;\">Speed or Momentum</td>\n",
    "      <td style=\"padding: 8px;\">ROC</td>\n",
    "    </tr>\n",
    "  </tbody>\n",
    "</table>\n"
   ]
  },
  {
   "cell_type": "markdown",
   "metadata": {},
   "source": [
    "#### 2.4.1. Overbought / Oversold\n",
    "---"
   ]
  },
  {
   "cell_type": "markdown",
   "metadata": {},
   "source": [
    "#### RSI (Relative Strength Index)\n",
    "The RSI measures the strength of a price movement on a scale of 0 to 100, where an RSI above 70 indicates overbought and below 30 indicates oversold.\n",
    "\n",
    "#### `RSI()`\n",
    "\n",
    "We calculate the Relative Strength Index (RSI) for each stock and add it as a new column to the Spark DataFrame. The function **`RSI()`** starts by calculating the daily price change in the \"Close\" column. It then separates the positive price changes as \"gains\" and negative changes as \"losses.\" For each stock, the function computes the average gains and losses over the specified period using a rolling window.\n",
    "\n",
    "Once the average gains and losses are calculated, the function computes the Relative Strength (RS) by dividing the average gain by the average loss. Then, the RSI is calculated using the formula: `RSI = 100 - (100 / (1 + RS))`.\n",
    "\n",
    "After computing the RSI, the function drops intermediate columns and returns the DataFrame with the \"RSI\" column.\n"
   ]
  },
  {
   "cell_type": "code",
   "execution_count": 17,
   "metadata": {},
   "outputs": [],
   "source": [
    "def RSI(df, period):\n",
    "    \"\"\"\n",
    "    Add a Relative Strength Index column to a Spark DataFrame\n",
    "    \n",
    "    Parameters:\n",
    "    df : Spark DataFrame\n",
    "    \n",
    "    Returns:\n",
    "    df_rsi : Spark DataFrame with an additional \"RSI\" column\n",
    "    \"\"\"\n",
    "    # Calculate the daily change in closing price\n",
    "    df = df.withColumn(\"dif\", F.col(\"Close\") - F.lag(\"Close\").over(Window.orderBy(\"Date\")))\n",
    "    \n",
    "    # Separate gains and losses\n",
    "    df = df.withColumn(\"gain\", F.when(F.col(\"dif\") > 0, F.col(\"dif\")).otherwise(0))\n",
    "    df = df.withColumn(\"loss\", F.when(F.col(\"dif\") < 0, -F.col(\"dif\")).otherwise(0))\n",
    "    \n",
    "    # Calculate the average gains and losses\n",
    "    df = df.withColumn(\"avg_gain\", F.avg(\"gain\").over(Window.orderBy(\"Date\").rowsBetween(-period + 1, 0)))\n",
    "    df = df.withColumn(\"avg_loss\", F.avg(\"loss\").over(Window.orderBy(\"Date\").rowsBetween(-period + 1, 0)))\n",
    "    \n",
    "    # Calculate the relative strength\n",
    "    df = df.withColumn(\"RS\", F.col(\"avg_gain\") / F.col(\"avg_loss\"))\n",
    "    \n",
    "    # Calculate the RSI\n",
    "    df = df.withColumn(\"RSI\", 100 - (100 / (1 + F.col(\"RS\"))))\n",
    "    \n",
    "    # Drop intermediate columns to keep the DataFrame clean\n",
    "    df_rsi = df.drop(\"dif\", \"gain\", \"loss\", \"avg_gain\", \"avg_loss\", \"RS\")\n",
    "    \n",
    "    return df_rsi\n"
   ]
  },
  {
   "cell_type": "code",
   "execution_count": 18,
   "metadata": {},
   "outputs": [],
   "source": [
    "# We add the RSI column to our Dataframes\n",
    "for i in stocks:\n",
    "    data_spark[i] = RSI(data_spark[i], 14) # We chose a period of 14 because according to John Welles Wilder Jr., this is the recommended period for making trades."
   ]
  },
  {
   "cell_type": "markdown",
   "metadata": {},
   "source": [
    "#### PPO (Percentage Price Oscillator)\n",
    "\n",
    "The PPO measures the relative difference between two exponential moving averages (EMAs) to identify momentum and trends in stock prices.\n",
    "\n",
    "#### `PPO()`\n",
    "\n",
    "We calculate the Percentage Price Oscillator (PPO) for each stock and add it as a new column to the Spark DataFrame. The function **`PPO()`** begins by calculating two EMAs: one for a short period and another for a long period. The short period is typically set to 12 and the long period to 26.\n",
    "\n",
    "Next, the function calculates the percentage difference between the two EMAs, which is the PPO value. This helps to compare momentum across stocks regardless of their price range.\n",
    "\n",
    "After computing the PPO, the function removes intermediate columns to keep the DataFrame clean and returns it with the new \"PPO\" column.\n",
    "\n",
    "*The values of 12 and 26 are commonly used based on the recommendation by Gerald Appel, who introduced the PPO in the late 1970s. These values balance short-term responsiveness with long-term trend smoothing to capture meaningful price movement without being overly sensitive to noise.*\n"
   ]
  },
  {
   "cell_type": "code",
   "execution_count": 19,
   "metadata": {},
   "outputs": [],
   "source": [
    "def PPO(df, short_period=12, long_period=26):\n",
    "    \"\"\"\n",
    "    Add a PPO column to a Spark DataFrame\n",
    "\n",
    "    Parameters:\n",
    "    df : Spark DataFrame\n",
    "    short_period : The short period for the EMA calculation\n",
    "    long_period : The long period for the EMA calculation\n",
    "\n",
    "    Returns:\n",
    "    df_ppo : Spark DataFrame with an additional \"PPO\" column\n",
    "    \"\"\"\n",
    "    # Calculate the short-term EMA\n",
    "    df = df.withColumn(\"ema_short\", F.avg(\"Close\").over(Window.orderBy(\"Date\").rowsBetween(-short_period + 1, 0)))\n",
    "    \n",
    "    # Calculate the long-term EMA\n",
    "    df = df.withColumn(\"ema_long\", F.avg(\"Close\").over(Window.orderBy(\"Date\").rowsBetween(-long_period + 1, 0)))\n",
    "    \n",
    "    # Calculate the PPO\n",
    "    df = df.withColumn(\"PPO\", ((F.col(\"ema_short\") - F.col(\"ema_long\")) / F.col(\"ema_long\")) * 100)\n",
    "    \n",
    "    # Drop intermediate columns\n",
    "    df_ppo = df.drop(\"ema_short\", \"ema_long\")\n",
    "    \n",
    "    return df_ppo"
   ]
  },
  {
   "cell_type": "code",
   "execution_count": 20,
   "metadata": {},
   "outputs": [],
   "source": [
    "# We add the PPO column to our Dataframe\n",
    "for i in stocks:\n",
    "    data_spark[i] = PPO(data_spark[i])"
   ]
  },
  {
   "cell_type": "markdown",
   "metadata": {},
   "source": [
    "#### 2.4.2. Trend Direction / Strength\n",
    "---"
   ]
  },
  {
   "cell_type": "markdown",
   "metadata": {},
   "source": [
    "#### MACD (Moving Average Convergence Divergence)\n",
    "\n",
    "The MACD is a trend-following momentum indicator that shows the relationship between two EMAs of a stock's price. It is used to identify potential buy and sell signals based on the convergence and divergence of the moving averages.\n",
    "\n",
    "#### `MACD()`\n",
    "\n",
    "The function **`MACD()`** calculates the MACD for each stock in the Spark DataFrame by subtracting the 26-period Exponential Moving Average (EMA) from the 12-period EMA. It also calculates the Signal Line as the 9-period EMA of the MACD. The MACD line is used to track momentum, while the Signal Line helps identify potential buy and sell signals.\n",
    "\n",
    "The choice of 12, 26, and 9 periods is based on the work of Gerald Appel, who found these values provide a good balance between responsiveness to recent price movements and smoothing of longer-term trends. After calculating the MACD and Signal Line, the function returns the DataFrame with two new columns: \"MACD\" and \"Signal\".\n",
    "\n"
   ]
  },
  {
   "cell_type": "code",
   "execution_count": 21,
   "metadata": {},
   "outputs": [],
   "source": [
    "def MACD(df, short_period=12, long_period=26, signal_period=9):\n",
    "    \"\"\"\n",
    "    Add a MACD column to a Spark DataFrame\n",
    "    \n",
    "    Parameters:\n",
    "    df : Spark DataFrame\n",
    "    short_period : The short period for the MACD calculation\n",
    "    long_period : The long period for the MACD calculation\n",
    "    signal_period : The period for the signal line\n",
    "    \n",
    "    Returns:\n",
    "    df_macd : Spark DataFrame with additional \"MACD\" and \"Signal\" columns\n",
    "    \"\"\"\n",
    "    # Calculate the short-term exponential moving average\n",
    "    df = df.withColumn(\"ema_short\", F.avg(\"Close\").over(Window.orderBy(\"Date\").rowsBetween(-short_period + 1, 0)))\n",
    "    \n",
    "    # Calculate the long-term exponential moving average\n",
    "    df = df.withColumn(\"ema_long\", F.avg(\"Close\").over(Window.orderBy(\"Date\").rowsBetween(-long_period + 1, 0)))\n",
    "    \n",
    "    # Calculate the MACD line\n",
    "    df = df.withColumn(\"MACD\", F.col(\"ema_short\") - F.col(\"ema_long\"))\n",
    "    \n",
    "    # Calculate the signal line\n",
    "    df = df.withColumn(\"Signal\", F.avg(\"MACD\").over(Window.orderBy(\"Date\").rowsBetween(-signal_period + 1, 0)))\n",
    "    \n",
    "    # Drop intermediate columns to keep the DataFrame clean\n",
    "    df_macd = df.drop(\"ema_short\", \"ema_long\")\n",
    "    \n",
    "    return df_macd\n"
   ]
  },
  {
   "cell_type": "code",
   "execution_count": 22,
   "metadata": {},
   "outputs": [],
   "source": [
    "# We add the MACD and Signal columns to our Dataframes\n",
    "for i in stocks:\n",
    "    data_spark[i] = MACD(data_spark[i])"
   ]
  },
  {
   "cell_type": "markdown",
   "metadata": {},
   "source": [
    "#### VWAP (Volume Weighted Average Price)\n",
    "The VWAP represents the average price of a stock weighted by its trading volume. It is commonly used to measure the price at which most of the trading volume occurred during a given period.\n",
    "\n",
    "#### `VWAP()`\n",
    "\n",
    "We calculate the Volume Weighted Average Price (VWAP) for each stock and add it as a new column to the Spark DataFrame. The function **`VWAP()`** starts by calculating the typical price, which is the average of the high, low, and close prices for each period. Then, it computes the cumulative volume and the cumulative typical price multiplied by the volume using a rolling window.\n",
    "\n",
    "Once the cumulative volume and typical price * volume are calculated, the function computes the VWAP by dividing the cumulative typical price * volume by the cumulative volume.\n",
    "\n",
    "After computing the VWAP, the function drops intermediate columns and returns the DataFrame with the \"VWAP\" column.\n"
   ]
  },
  {
   "cell_type": "code",
   "execution_count": 23,
   "metadata": {},
   "outputs": [],
   "source": [
    "def VWAP(df):\n",
    "    \"\"\"\n",
    "    Add a VWAP column to a Spark DataFrame\n",
    "    \n",
    "    Parameters:\n",
    "    df : Spark DataFrame\n",
    "    \n",
    "    Returns:\n",
    "    df_vwap : Spark DataFrame with an additional \"VWAP\" column\n",
    "    \"\"\"\n",
    "    # Calculate the typical price (average of High, Low, and Close)\n",
    "    df = df.withColumn(\"typical_price\", (F.col(\"High\") + F.col(\"Low\") + F.col(\"Close\")) / 3)\n",
    "    \n",
    "    # Calculate the cumulative volume and cumulative typical price * volume\n",
    "    df = df.withColumn(\"cum_volume\", F.sum(\"Volume\").over(Window.orderBy(\"Date\")))\n",
    "    df = df.withColumn(\"cum_tp_volume\", F.sum(F.col(\"typical_price\") * F.col(\"Volume\")).over(Window.orderBy(\"Date\")))\n",
    "    \n",
    "    # Calculate the VWAP\n",
    "    df = df.withColumn(\"VWAP\", F.col(\"cum_tp_volume\") / F.col(\"cum_volume\"))\n",
    "    \n",
    "    # Drop intermediate columns to keep the DataFrame clean\n",
    "    df_vwap = df.drop(\"typical_price\", \"cum_volume\", \"cum_tp_volume\")\n",
    "    \n",
    "    return df_vwap"
   ]
  },
  {
   "cell_type": "code",
   "execution_count": 24,
   "metadata": {},
   "outputs": [],
   "source": [
    "# We add the VWAP column to our Dataframe\n",
    "for i in stocks:\n",
    "    data_spark[i] = VWAP(data_spark[i])"
   ]
  },
  {
   "cell_type": "markdown",
   "metadata": {},
   "source": [
    "#### 2.4.3. Buying / Selling Pressure\n",
    "---"
   ]
  },
  {
   "cell_type": "markdown",
   "metadata": {},
   "source": [
    "#### OBV (On-Balance Volume)\n",
    "\n",
    "The OBV indicator is used to measure buying and selling pressure based on volume. It is calculated as a cumulative sum, where the volume is added when the price increases and subtracted when it decreases.\n",
    "\n",
    "#### `OBV()`\n",
    "\n",
    "We calculate the On-Balance Volume (OBV) for a stock and add it as a new column to the Spark DataFrame. The function **`OBV()`** begins by determining the price movement direction using the \"Close\" column. A value of 1 is assigned for an increase, -1 for a decrease, and 0 for no change. \n",
    "\n",
    "The OBV change for each day is calculated as the product of the direction and the trading volume. Using a rolling sum, the cumulative OBV is computed over the entire dataset.\n",
    "\n",
    "After calculating the OBV, the function removes intermediate columns to return a clean DataFrame containing the \"OBV\" column.\n"
   ]
  },
  {
   "cell_type": "code",
   "execution_count": 25,
   "metadata": {},
   "outputs": [],
   "source": [
    "def OBV(df):\n",
    "    \"\"\"\n",
    "    Add an On-Balance Volume column to a Spark DataFrame\n",
    "    \n",
    "    Parameters:\n",
    "    df : Spark DataFrame\n",
    "    \n",
    "    Returns:\n",
    "    df_obv : Spark DataFrame with an additional \"OBV\" column\n",
    "    \"\"\"\n",
    "    # Determine the price direction\n",
    "    df = df.withColumn(\"direction\", F.when(F.col(\"Close\") > F.lag(\"Close\").over(Window.orderBy(\"Date\")), 1).when(F.col(\"Close\") < F.lag(\"Close\").over(Window.orderBy(\"Date\")), -1).otherwise(0))\n",
    "    \n",
    "    # Calculate the daily OBV change\n",
    "    df = df.withColumn(\"obv_change\", F.col(\"direction\") * F.col(\"Volume\"))\n",
    "    \n",
    "    # Compute the cumulative OBV\n",
    "    df = df.withColumn(\"OBV\", F.sum(\"obv_change\").over(Window.orderBy(\"Date\")))\n",
    "    \n",
    "    # Drop intermediate columns to keep the DataFrame clean\n",
    "    df_obv = df.drop(\"direction\", \"obv_change\")\n",
    "    \n",
    "    return df_obv\n"
   ]
  },
  {
   "cell_type": "code",
   "execution_count": 26,
   "metadata": {},
   "outputs": [],
   "source": [
    "# We add the OBV column to our Dataframe\n",
    "for i in stocks:\n",
    "    data_spark[i] = OBV(data_spark[i])"
   ]
  },
  {
   "cell_type": "markdown",
   "metadata": {},
   "source": [
    "#### CMF (Chaikin Money Flow)\n",
    "\n",
    "The CMF measures the cumulative flow of money into and out of a stock over a specified period, helping to identify the strength of a trend by analyzing price and volume.\n",
    "\n",
    "#### `CMF()`\n",
    "\n",
    "We calculate the Chaikin Money Flow (CMF) for each stock and add it as a new column to the Spark DataFrame. The function **`CMF()`** begins by calculating the **Money Flow Multiplier (MFM)** for each row, which is determined by the relationship between the stock's high, low, and close prices. \n",
    "\n",
    "Then, the function calculates the **Money Flow Volume (MFV)** by multiplying the MFM by the stock's volume for the corresponding period. The **Cumulative Money Flow (CMF)** is computed by summing up the MFV values over the specified period, and the final CMF value is the result of dividing the cumulative MFV by the cumulativectuations.\n",
    "\n",
    "After calculating the CMF, the function removes any intermediate columns and returns the DataFrame with the new \"CMF\" column.\n"
   ]
  },
  {
   "cell_type": "code",
   "execution_count": 27,
   "metadata": {},
   "outputs": [],
   "source": [
    "def CMF(df, period):\n",
    "    \"\"\"\n",
    "    Add a Chaikin Money Flow column to a Spark DataFrame\n",
    "    \n",
    "    Parameters:\n",
    "    df : Spark DataFrame\n",
    "    period : The period to calculate the CMF\n",
    "    \n",
    "    Returns:\n",
    "    df_cmf : Spark DataFrame with an additional \"CMF\" column\n",
    "    \"\"\"\n",
    "    # Calculate the Money Flow Multiplier\n",
    "    df = df.withColumn(\"MFM\", ((F.col(\"Close\") - F.col(\"Low\")) - (F.col(\"High\") - F.col(\"Close\"))) / (F.col(\"High\") - F.col(\"Low\")))\n",
    "    \n",
    "    # Calculate the Money Flow Volume\n",
    "    df = df.withColumn(\"MFV\", F.col(\"MFM\") * F.col(\"Volume\"))\n",
    "    \n",
    "    # Calculate the CMF by summing the MFV and dividing by the sum of volume over the specified period\n",
    "    windowSpec = Window.orderBy(\"Date\").rowsBetween(-period + 1, 0)\n",
    "    df = df.withColumn(\"CMF\", F.sum(\"MFV\").over(windowSpec) / F.sum(\"Volume\").over(windowSpec))\n",
    "    \n",
    "    # Return the DataFrame with the added CMF column\n",
    "    df_cmf = df.drop(\"MFM\", \"MFV\")\n",
    "    \n",
    "    return df_cmf\n"
   ]
  },
  {
   "cell_type": "code",
   "execution_count": 28,
   "metadata": {},
   "outputs": [],
   "source": [
    "# We add the CMF column to our Dataframe\n",
    "for i in stocks:\n",
    "    # We use a 20-day period, to ensure a good balance between responsiveness to market movements and smoothing out short-term fluctuations\n",
    "    data_spark[i] = CMF(data_spark[i], 20)"
   ]
  },
  {
   "cell_type": "markdown",
   "metadata": {},
   "source": [
    "#### PVT (Price Volume Trend)\n",
    "\n",
    "The PVT is a volume-based momentum indicator that combines price and volume data to measure the strength of price movements and trends.\n",
    "\n",
    "#### `PVT()`\n",
    "\n",
    "We calculate the Price Volume Trend (PVT) for each stock and add it as a new column to the Spark DataFrame. The function **`PVT()`** starts by calculating the **daily percentage price change**, which represents how much the closing price has moved relative to the previous day.\n",
    "\n",
    "Next, the **daily PVT change** is computed by multiplying the percentage price change by the trading volume for that day. This value is then accumulated over time to produce the **cumulative PVT**, which tracks the trend in price and volume interaction.\n",
    "\n",
    "After computing the PVT, the function removes intermediate columns to keep the DataFrame clean and returns the updated DataFrame with the new \"PVT\" column.\n"
   ]
  },
  {
   "cell_type": "code",
   "execution_count": 29,
   "metadata": {},
   "outputs": [],
   "source": [
    "def PVT(df):\n",
    "    \"\"\"\n",
    "    Add a Price Volume Trend column to a Spark DataFrame\n",
    "    \n",
    "    Parameters:\n",
    "    df : Spark DataFrame\n",
    "    \n",
    "    Returns:\n",
    "    df_pvt : Spark DataFrame with the additional \"PVT\" column\n",
    "    \"\"\"\n",
    "    # Calculate the daily percentage price change\n",
    "    df = df.withColumn(\"price_change_pct\", (F.col(\"Close\") - F.lag(\"Close\").over(Window.orderBy(\"Date\"))) / F.lag(\"Close\").over(Window.orderBy(\"Date\")))\n",
    "    \n",
    "    # Calculate the daily PVT change\n",
    "    df = df.withColumn(\"pvt_change\", F.col(\"price_change_pct\") * F.col(\"Volume\"))\n",
    "    \n",
    "    # Calculate the cumulative PVT\n",
    "    df = df.withColumn(\"PVT\", F.sum(\"pvt_change\").over(Window.orderBy(\"Date\")))\n",
    "    \n",
    "    # Drop intermediate columns to keep the DataFrame clean\n",
    "    df_pvt = df.drop(\"price_change_pct\", \"pvt_change\")\n",
    "    \n",
    "    return df_pvt"
   ]
  },
  {
   "cell_type": "code",
   "execution_count": 30,
   "metadata": {},
   "outputs": [],
   "source": [
    "# We add the  PVT column to our Dataframe\n",
    "for i in stocks:\n",
    "    data_spark[i] = PVT(data_spark[i])"
   ]
  },
  {
   "cell_type": "markdown",
   "metadata": {},
   "source": [
    "#### 2.4.4. Speed or Momentum\n",
    "---"
   ]
  },
  {
   "cell_type": "markdown",
   "metadata": {},
   "source": [
    "#### ROC (Rate of Change)\n",
    "\n",
    "The ROC indicator measures the percentage change in the price over a specified period, helping to identify price momentum. Positive values indicate upward momentum, while negative values suggest downward momentum.\n",
    "\n",
    "#### `ROC()`\n",
    "\n",
    "We calculate the Rate of Change (ROC) for a stock and add it as a new column to the Spark DataFrame. The function **`ROC()`** computes the price from `n` periods ago using the \"Close\" column. It then calculates the percentage change in price.\n",
    "\n",
    "After computing the ROC, the function removes intermediate columns and returns the DataFrame with the \"ROC\" column."
   ]
  },
  {
   "cell_type": "code",
   "execution_count": 31,
   "metadata": {},
   "outputs": [],
   "source": [
    "def ROC(df, period):\n",
    "    \"\"\"\n",
    "    Add a Rate of Change column to a Spark DataFrame\n",
    "\n",
    "    Parameters:\n",
    "    df : Spark DataFrame\n",
    "    period : The period over which the ROC is calculated\n",
    "\n",
    "    Returns:\n",
    "    df_roc : Spark DataFrame with an additional \"ROC\" column\n",
    "    \"\"\"\n",
    "    # Calculate the price n periods ago\n",
    "    df = df.withColumn(\"Close_period\", F.lag(\"Close\", period).over(Window.orderBy(\"Date\")))\n",
    "\n",
    "    # Calculate the Rate of Change\n",
    "    df = df.withColumn(\"ROC\", ((F.col(\"Close\") - F.col(\"Close_period\")) / F.col(\"Close_period\")) * 100)\n",
    "\n",
    "    # Drop intermediate columns to keep the DataFrame clean\n",
    "    df_roc = df.drop(\"Close_period\")\n",
    "\n",
    "    return df_roc"
   ]
  },
  {
   "cell_type": "code",
   "execution_count": 32,
   "metadata": {},
   "outputs": [],
   "source": [
    "# We add the ROC column to our Dataframe\n",
    "for i in stocks:\n",
    "    data_spark[i] = ROC(data_spark[i], 14)"
   ]
  },
  {
   "cell_type": "markdown",
   "metadata": {},
   "source": [
    "## 3. Pre-Processing\n",
    "<p style=\"text-align: left; color: #555; font-size: 16px;\">\n",
    "    In this part we will prepare our data so that we can visualize it in the next part.\n",
    "</p>\n",
    "\n",
    "---"
   ]
  },
  {
   "cell_type": "markdown",
   "metadata": {},
   "source": [
    "### 3.1. Missing Values"
   ]
  },
  {
   "cell_type": "markdown",
   "metadata": {},
   "source": [
    "We use the `missing_values()` function to check for missing values ​​in our Dataframes."
   ]
  },
  {
   "cell_type": "code",
   "execution_count": 33,
   "metadata": {},
   "outputs": [
    {
     "name": "stdout",
     "output_type": "stream",
     "text": [
      "AAPL\n",
      "+----+-----+----+---+----+------+-----+----+----+-----------------+---+---+----+------+----+---+---+---+---+\n",
      "|Date|Close|High|Low|Open|Volume|Month|Year|Week|Daily_Return_Rate|RSI|PPO|MACD|Signal|VWAP|OBV|CMF|PVT|ROC|\n",
      "+----+-----+----+---+----+------+-----+----+----+-----------------+---+---+----+------+----+---+---+---+---+\n",
      "|   0|    0|   0|  0|   0|     0|    0|   0|   0|                0|  2|  0|   0|     0|   0|  0|  0|  1| 14|\n",
      "+----+-----+----+---+----+------+-----+----+----+-----------------+---+---+----+------+----+---+---+---+---+\n",
      "\n",
      "NVDA\n",
      "+----+-----+----+---+----+------+-----+----+----+-----------------+---+---+----+------+----+---+---+---+---+\n",
      "|Date|Close|High|Low|Open|Volume|Month|Year|Week|Daily_Return_Rate|RSI|PPO|MACD|Signal|VWAP|OBV|CMF|PVT|ROC|\n",
      "+----+-----+----+---+----+------+-----+----+----+-----------------+---+---+----+------+----+---+---+---+---+\n",
      "|   0|    0|   0|  0|   0|     0|    0|   0|   0|                0|  3|  0|   0|     0|   0|  0|  0|  1| 14|\n",
      "+----+-----+----+---+----+------+-----+----+----+-----------------+---+---+----+------+----+---+---+---+---+\n",
      "\n",
      "MSFT\n",
      "+----+-----+----+---+----+------+-----+----+----+-----------------+---+---+----+------+----+---+---+---+---+\n",
      "|Date|Close|High|Low|Open|Volume|Month|Year|Week|Daily_Return_Rate|RSI|PPO|MACD|Signal|VWAP|OBV|CMF|PVT|ROC|\n",
      "+----+-----+----+---+----+------+-----+----+----+-----------------+---+---+----+------+----+---+---+---+---+\n",
      "|   0|    0|   0|  0|   0|     0|    0|   0|   0|                0|  2|  0|   0|     0|   0|  0|  0|  1| 14|\n",
      "+----+-----+----+---+----+------+-----+----+----+-----------------+---+---+----+------+----+---+---+---+---+\n",
      "\n",
      "AMZN\n",
      "+----+-----+----+---+----+------+-----+----+----+-----------------+---+---+----+------+----+---+---+---+---+\n",
      "|Date|Close|High|Low|Open|Volume|Month|Year|Week|Daily_Return_Rate|RSI|PPO|MACD|Signal|VWAP|OBV|CMF|PVT|ROC|\n",
      "+----+-----+----+---+----+------+-----+----+----+-----------------+---+---+----+------+----+---+---+---+---+\n",
      "|   0|    0|   0|  0|   0|     0|    0|   0|   0|                0|  2|  0|   0|     0|   0|  0|  0|  1| 14|\n",
      "+----+-----+----+---+----+------+-----+----+----+-----------------+---+---+----+------+----+---+---+---+---+\n",
      "\n",
      "GOOG\n",
      "+----+-----+----+---+----+------+-----+----+----+-----------------+---+---+----+------+----+---+---+---+---+\n",
      "|Date|Close|High|Low|Open|Volume|Month|Year|Week|Daily_Return_Rate|RSI|PPO|MACD|Signal|VWAP|OBV|CMF|PVT|ROC|\n",
      "+----+-----+----+---+----+------+-----+----+----+-----------------+---+---+----+------+----+---+---+---+---+\n",
      "|   0|    0|   0|  0|   0|     0|    0|   0|   0|                0|  1|  0|   0|     0|   0|  0|  0|  1| 14|\n",
      "+----+-----+----+---+----+------+-----+----+----+-----------------+---+---+----+------+----+---+---+---+---+\n",
      "\n"
     ]
    }
   ],
   "source": [
    "# We check if there are missing values ​​in our columns\n",
    "for i in data_spark:\n",
    "    print(i)\n",
    "    missing_values(data_spark[i])"
   ]
  },
  {
   "cell_type": "markdown",
   "metadata": {},
   "source": [
    "#### 3.1.1. Distribution of Non-Null Variables\n",
    "\n",
    "---\n",
    "\n",
    "We display the distribution of missing variables and examine whether it is symmetrical or not. In the case of a symmetrical distribution, it is preferable to replace the `null` values ​​with the column mean, while for an asymmetrical distribution, the median is more appropriate, because it allows to minimize the impact of outliers. Indeed, in a symmetrical distribution, the values ​​are distributed in a balanced way around the mean."
   ]
  },
  {
   "cell_type": "code",
   "execution_count": 34,
   "metadata": {},
   "outputs": [
    {
     "data": {
      "image/png": "[encoded data removed]",
      "text/plain": [
       "<Figure size 640x480 with 1 Axes>"
      ]
     },
     "metadata": {},
     "output_type": "display_data"
    },
    {
     "data": {
      "image/png": "[encoded data removed]",
      "text/plain": [
       "<Figure size 640x480 with 1 Axes>"
      ]
     },
     "metadata": {},
     "output_type": "display_data"
    },
    {
     "data": {
      "image/png": "[encoded data removed]",
      "text/plain": [
       "<Figure size 640x480 with 1 Axes>"
      ]
     },
     "metadata": {},
     "output_type": "display_data"
    },
    {
     "data": {
      "image/png": "[encoded data removed]",
      "text/plain": [
       "<Figure size 640x480 with 1 Axes>"
      ]
     },
     "metadata": {},
     "output_type": "display_data"
    },
    {
     "data": {
      "image/png": "[encoded data removed]",
      "text/plain": [
       "<Figure size 640x480 with 1 Axes>"
      ]
     },
     "metadata": {},
     "output_type": "display_data"
    },
    {
     "data": {
      "image/png": "[encoded data removed]",
      "text/plain": [
       "<Figure size 640x480 with 1 Axes>"
      ]
     },
     "metadata": {},
     "output_type": "display_data"
    },
    {
     "data": {
      "image/png": "[encoded data removed]",
      "text/plain": [
       "<Figure size 640x480 with 1 Axes>"
      ]
     },
     "metadata": {},
     "output_type": "display_data"
    },
    {
     "data": {
      "image/png": "[encoded data removed]",
      "text/plain": [
       "<Figure size 640x480 with 1 Axes>"
      ]
     },
     "metadata": {},
     "output_type": "display_data"
    },
    {
     "data": {
      "image/png": "[encoded data removed]",
      "text/plain": [
       "<Figure size 640x480 with 1 Axes>"
      ]
     },
     "metadata": {},
     "output_type": "display_data"
    },
    {
     "data": {
      "image/png": "[encoded data removed]",
      "text/plain": [
       "<Figure size 640x480 with 1 Axes>"
      ]
     },
     "metadata": {},
     "output_type": "display_data"
    },
    {
     "data": {
      "image/png": "[encoded data removed]",
      "text/plain": [
       "<Figure size 640x480 with 1 Axes>"
      ]
     },
     "metadata": {},
     "output_type": "display_data"
    },
    {
     "data": {
      "image/png": "[encoded data removed]",
      "text/plain": [
       "<Figure size 640x480 with 1 Axes>"
      ]
     },
     "metadata": {},
     "output_type": "display_data"
    },
    {
     "data": {
      "image/png": "[encoded data removed]",
      "text/plain": [
       "<Figure size 640x480 with 1 Axes>"
      ]
     },
     "metadata": {},
     "output_type": "display_data"
    },
    {
     "data": {
      "image/png": "[encoded data removed]",
      "text/plain": [
       "<Figure size 640x480 with 1 Axes>"
      ]
     },
     "metadata": {},
     "output_type": "display_data"
    },
    {
     "data": {
      "image/png": "[encoded data removed]",
      "text/plain": [
       "<Figure size 640x480 with 1 Axes>"
      ]
     },
     "metadata": {},
     "output_type": "display_data"
    }
   ],
   "source": [
    "for i in stocks:\n",
    "    for j in [\"RSI\", \"ROC\", \"PVT\"]:\n",
    "        hist = data_spark[i].select(j).rdd.flatMap(lambda x: x).histogram(10)\n",
    "        plt.figure()\n",
    "        plt.title(i+\"_\"+j)\n",
    "        plt.xlabel(\"Value\")\n",
    "        plt.ylabel(\"Frequency\")\n",
    "        plt.hist(hist[0][:-1], bins = hist[0], weights = hist[1], edgecolor = \"black\")\n",
    "        plt.show()"
   ]
  },
  {
   "cell_type": "markdown",
   "metadata": {},
   "source": [
    "#### 3.1.2. Handling missing values\n",
    "\n",
    "---\n",
    "\n",
    "We notice on our graphs that for each stock, the variables \"RSI\" and \"ROC\" present a symmetrical distribution while the variable \"PVT\" has an asymmetrical distribution. \n",
    "We use the previously implemented function, `descriptive_stat()`, on the \"RSI\" and \"ROC\" columns of each stock in order to obtain the average of the latter.\n",
    "We can thus replace the missing values ​​of these columns with their average. We will then calculate the median and replace the missing values ​​in the \"PVT\" column with the latter."
   ]
  },
  {
   "cell_type": "code",
   "execution_count": 42,
   "metadata": {},
   "outputs": [
    {
     "name": "stdout",
     "output_type": "stream",
     "text": [
      "AAPL\n",
      "+-------+------------------+-------------------+\n",
      "|summary|               RSI|                ROC|\n",
      "+-------+------------------+-------------------+\n",
      "|  count|              3751|               3739|\n",
      "|   mean|55.813103988563306| 1.5501675137327864|\n",
      "| stddev| 17.84396586519344| 6.2779825068363815|\n",
      "|    min|3.1798355757619277|-23.282369221135987|\n",
      "|    max| 97.48775421016985| 24.404679930578645|\n",
      "+-------+------------------+-------------------+\n",
      "\n",
      "NVDA\n",
      "+-------+------------------+-------------------+\n",
      "|summary|               RSI|                ROC|\n",
      "+-------+------------------+-------------------+\n",
      "|  count|              3750|               3739|\n",
      "|   mean|54.989161520057365| 2.7692602832192725|\n",
      "| stddev| 17.15221219170883|  10.73006651216249|\n",
      "|    min|  2.97864831870929|-33.652755458719525|\n",
      "|    max| 99.42870951369811|  57.26672997909203|\n",
      "+-------+------------------+-------------------+\n",
      "\n",
      "MSFT\n",
      "+-------+------------------+------------------+\n",
      "|summary|               RSI|               ROC|\n",
      "+-------+------------------+------------------+\n",
      "|  count|              3751|              3739|\n",
      "|   mean| 55.08913855166739|1.2225491430354725|\n",
      "| stddev|15.897113755715495|5.0888553060583765|\n",
      "|    min|1.9207577997354548|-22.13451438558377|\n",
      "|    max| 99.11185488540296|21.716418581412167|\n",
      "+-------+------------------+------------------+\n",
      "\n",
      "AMZN\n",
      "+-------+------------------+------------------+\n",
      "|summary|               RSI|               ROC|\n",
      "+-------+------------------+------------------+\n",
      "|  count|              3751|              3739|\n",
      "|   mean|54.746830238989666| 1.563319359741583|\n",
      "| stddev| 16.43168764986743|7.2343926861709935|\n",
      "|    min|11.435316631286454|-31.19649512649608|\n",
      "|    max|  97.3656376730544|30.297962490338655|\n",
      "+-------+------------------+------------------+\n",
      "\n",
      "GOOG\n",
      "+-------+------------------+-------------------+\n",
      "|summary|               RSI|                ROC|\n",
      "+-------+------------------+-------------------+\n",
      "|  count|              3752|               3739|\n",
      "|   mean| 54.17704534211563|  1.106343330127082|\n",
      "| stddev|16.849076776715826|  5.955066918622519|\n",
      "|    min|               0.0|-24.927453904795765|\n",
      "|    max| 99.16314203393537| 27.240612223958415|\n",
      "+-------+------------------+-------------------+\n",
      "\n"
     ]
    }
   ],
   "source": [
    "# We call our function to extract key statistics from our Spark DataFrame\n",
    "for i in data_spark:\n",
    "    print(i)\n",
    "    descriptive_stat(data_spark[i].select(\"RSI\", \"ROC\"))"
   ]
  },
  {
   "cell_type": "code",
   "execution_count": 35,
   "metadata": {},
   "outputs": [],
   "source": [
    "# We replace the missing values ​​in the \"RSI\" and \"ROC\" columns with their means\n",
    "data_spark[\"AAPL\"] = data_spark[\"AAPL\"].fillna({\"RSI\": 55.813103988563306, \"ROC\": 1.5501675137327864})\n",
    "data_spark[\"NVDA\"] = data_spark[\"NVDA\"].fillna({\"RSI\": 54.989161520057365, \"ROC\": 2.7692602832192725})\n",
    "data_spark[\"MSFT\"] = data_spark[\"MSFT\"].fillna({\"RSI\": 55.08913855166739, \"ROC\": 1.2225491430354725})\n",
    "data_spark[\"AMZN\"] = data_spark[\"AMZN\"].fillna({\"RSI\": 54.746830238989666, \"ROC\": 1.563319359741583})\n",
    "data_spark[\"GOOG\"] = data_spark[\"GOOG\"].fillna({\"RSI\": 54.17704534211563, \"ROC\": 1.106343330127082})\n",
    "\n",
    "# We replace missing values ​​in the \"PVT\" column with the median (50th percentile) for each stock \n",
    "for i in stocks:\n",
    "    data_spark[i] = data_spark[i].fillna({\"PVT\": data_spark[i].approxQuantile(\"PVT\", [0.5], 0.01)[0]})\n"
   ]
  },
  {
   "cell_type": "markdown",
   "metadata": {},
   "source": [
    "We recheck if there are any missing values ​​remaining using our `missing_values()` function."
   ]
  },
  {
   "cell_type": "code",
   "execution_count": 36,
   "metadata": {},
   "outputs": [
    {
     "name": "stdout",
     "output_type": "stream",
     "text": [
      "AAPL\n",
      "+----+-----+----+---+----+------+-----+----+----+-----------------+---+---+----+------+----+---+---+---+---+\n",
      "|Date|Close|High|Low|Open|Volume|Month|Year|Week|Daily_Return_Rate|RSI|PPO|MACD|Signal|VWAP|OBV|CMF|PVT|ROC|\n",
      "+----+-----+----+---+----+------+-----+----+----+-----------------+---+---+----+------+----+---+---+---+---+\n",
      "|   0|    0|   0|  0|   0|     0|    0|   0|   0|                0|  0|  0|   0|     0|   0|  0|  0|  0|  0|\n",
      "+----+-----+----+---+----+------+-----+----+----+-----------------+---+---+----+------+----+---+---+---+---+\n",
      "\n",
      "NVDA\n",
      "+----+-----+----+---+----+------+-----+----+----+-----------------+---+---+----+------+----+---+---+---+---+\n",
      "|Date|Close|High|Low|Open|Volume|Month|Year|Week|Daily_Return_Rate|RSI|PPO|MACD|Signal|VWAP|OBV|CMF|PVT|ROC|\n",
      "+----+-----+----+---+----+------+-----+----+----+-----------------+---+---+----+------+----+---+---+---+---+\n",
      "|   0|    0|   0|  0|   0|     0|    0|   0|   0|                0|  0|  0|   0|     0|   0|  0|  0|  0|  0|\n",
      "+----+-----+----+---+----+------+-----+----+----+-----------------+---+---+----+------+----+---+---+---+---+\n",
      "\n",
      "MSFT\n",
      "+----+-----+----+---+----+------+-----+----+----+-----------------+---+---+----+------+----+---+---+---+---+\n",
      "|Date|Close|High|Low|Open|Volume|Month|Year|Week|Daily_Return_Rate|RSI|PPO|MACD|Signal|VWAP|OBV|CMF|PVT|ROC|\n",
      "+----+-----+----+---+----+------+-----+----+----+-----------------+---+---+----+------+----+---+---+---+---+\n",
      "|   0|    0|   0|  0|   0|     0|    0|   0|   0|                0|  0|  0|   0|     0|   0|  0|  0|  0|  0|\n",
      "+----+-----+----+---+----+------+-----+----+----+-----------------+---+---+----+------+----+---+---+---+---+\n",
      "\n",
      "AMZN\n",
      "+----+-----+----+---+----+------+-----+----+----+-----------------+---+---+----+------+----+---+---+---+---+\n",
      "|Date|Close|High|Low|Open|Volume|Month|Year|Week|Daily_Return_Rate|RSI|PPO|MACD|Signal|VWAP|OBV|CMF|PVT|ROC|\n",
      "+----+-----+----+---+----+------+-----+----+----+-----------------+---+---+----+------+----+---+---+---+---+\n",
      "|   0|    0|   0|  0|   0|     0|    0|   0|   0|                0|  0|  0|   0|     0|   0|  0|  0|  0|  0|\n",
      "+----+-----+----+---+----+------+-----+----+----+-----------------+---+---+----+------+----+---+---+---+---+\n",
      "\n",
      "GOOG\n",
      "+----+-----+----+---+----+------+-----+----+----+-----------------+---+---+----+------+----+---+---+---+---+\n",
      "|Date|Close|High|Low|Open|Volume|Month|Year|Week|Daily_Return_Rate|RSI|PPO|MACD|Signal|VWAP|OBV|CMF|PVT|ROC|\n",
      "+----+-----+----+---+----+------+-----+----+----+-----------------+---+---+----+------+----+---+---+---+---+\n",
      "|   0|    0|   0|  0|   0|     0|    0|   0|   0|                0|  0|  0|   0|     0|   0|  0|  0|  0|  0|\n",
      "+----+-----+----+---+----+------+-----+----+----+-----------------+---+---+----+------+----+---+---+---+---+\n",
      "\n"
     ]
    }
   ],
   "source": [
    "# We check if there are missing values ​​in our columns\n",
    "for i in data_spark:\n",
    "    print(i)\n",
    "    missing_values(data_spark[i])"
   ]
  },
  {
   "cell_type": "markdown",
   "metadata": {},
   "source": [
    "### 3.2. Convert to Pandas Dataframe\n",
    " <p style=\"text-align: left; color: #555; font-size: 16px;\">\n",
    "    To make data visualization easier, we will convert our Spark dataframes to Pandas dataframes. Additionally, we will be able to load our data into a second notebook where we will perform part 4 (data visualization).\n",
    "</p>\n"
   ]
  },
  {
   "cell_type": "code",
   "execution_count": 48,
   "metadata": {},
   "outputs": [],
   "source": [
    "# Name of the folder where we will save our dataframe as a csv file\n",
    "folder_path = \"data_cleaned\"\n",
    "\n",
    "# We create the folder to save our dataframe if it does not already exist\n",
    "os.makedirs(folder_path, exist_ok = True)\n",
    "\n",
    "# We save our data frames in csv format so that we can use them in the second notebook which will process the following parts\n",
    "df_AAPL = data_spark[\"AAPL\"].toPandas().to_csv(\"./data_cleaned/AAPL_cleaned.csv\", index = False)\n",
    "df_NVDA = data_spark[\"NVDA\"].toPandas().to_csv(\"./data_cleaned/NVDA_cleaned.csv\", index = False) \n",
    "df_MSFT = data_spark[\"MSFT\"].toPandas().to_csv(\"./data_cleaned/MSFT_cleaned.csv\", index = False) \n",
    "df_AMZN = data_spark[\"AMZN\"].toPandas().to_csv(\"./data_cleaned/AMZN_cleaned.csv\", index = False) \n",
    "df_GOOG = data_spark[\"GOOG\"].toPandas().to_csv(\"./data_cleaned/GOOG_cleaned.csv\", index = False) "
   ]
  }
 ],
 "metadata": {
  "kernelspec": {
   "display_name": "Python 3 (ipykernel)",
   "language": "python",
   "name": "python3"
  },
  "language_info": {
   "codemirror_mode": {
    "name": "ipython",
    "version": 3
   },
   "file_extension": ".py",
   "mimetype": "text/x-python",
   "name": "python",
   "nbconvert_exporter": "python",
   "pygments_lexer": "ipython3",
   "version": "3.11.3"
  }
 },
 "nbformat": 4,
 "nbformat_minor": 4
}
