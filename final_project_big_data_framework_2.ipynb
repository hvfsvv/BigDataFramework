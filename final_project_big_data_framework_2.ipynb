{
 "cells": [
  {
   "cell_type": "markdown",
   "id": "439e39df-e09d-48dd-b82a-daa6502dacf8",
   "metadata": {},
   "source": [
    "<div style=\"text-align: center; padding: 20px;\">\n",
    "    <span style=\"font-size: 24px; font-weight: bold; text-decoration: underline;\">\n",
    "        BigData Framework: Final Project \n",
    "    </span>\n",
    "</div>\n",
    "\n",
    "<div style=\"text-align: center; font-size: 18px; line-height: 1.5;\">\n",
    "    SHAHIN Sarah , REDOUANE Hafsa<br>\n",
    "    ING4, Data&IA, Grp3<br>\n",
    "    [NOTEBOOK  2/2]\n",
    "</div>\n",
    "</div>\n",
    "</div>\n",
    "</div>\n",
    "</div>\n",
    "\n",
    "--- "
   ]
  },
  {
   "cell_type": "markdown",
   "id": "8e922670-90b7-4e36-8a1e-ac0a5f8331e7",
   "metadata": {},
   "source": [
    "## 4. Analysis and Visualization\n",
    " <p style=\"text-align: left; color: #555; font-size: 16px;\">\n",
    "    In this part, we will graphically represent our data, in order to visualize and analyze it to draw conclusions for our investor.\n",
    "</p>\n",
    "\n",
    "---"
   ]
  },
  {
   "cell_type": "markdown",
   "id": "fd512f7c-94cb-436a-a2ce-9c2f5d32a831",
   "metadata": {},
   "source": [
    "### 4.1. Initialization\n",
    "<p style=\"text-align: left; color: #555; font-size: 16px;\">\n",
    "    In this part we import the necessary libraries, as well as the csv files into the dataframes\n",
    "</p>\n"
   ]
  },
  {
   "cell_type": "code",
   "execution_count": 1,
   "id": "a0af55ce-5517-4ebb-ad8d-f91234bc8ca8",
   "metadata": {},
   "outputs": [],
   "source": [
    "import numpy as np\n",
    "import pandas as pd\n",
    "import seaborn as sns\n",
    "import matplotlib.pyplot as plt\n",
    "from ipywidgets import interact, IntSlider, Dropdown"
   ]
  },
  {
   "cell_type": "code",
   "execution_count": 2,
   "id": "8343f486-bb75-45ff-9e76-767364f8ca89",
   "metadata": {},
   "outputs": [],
   "source": [
    "# List of stock symbols to download for analysis\n",
    "stocks = [\"AAPL\", \"NVDA\", \"MSFT\", \"AMZN\", \"GOOG\"] "
   ]
  },
  {
   "cell_type": "code",
   "execution_count": 3,
   "id": "309f5005-25a2-4a36-85db-f43d6db09ad8",
   "metadata": {},
   "outputs": [],
   "source": [
    "# We import our csv files into dataframes\n",
    "df_AAPL = pd.read_csv(\"./data_cleaned/AAPL_cleaned.csv\")\n",
    "df_AMZN = pd.read_csv(\"./data_cleaned/AMZN_cleaned.csv\")\n",
    "df_GOOG = pd.read_csv(\"./data_cleaned/GOOG_cleaned.csv\")\n",
    "df_MSFT = pd.read_csv(\"./data_cleaned/MSFT_cleaned.csv\")\n",
    "df_NVDA = pd.read_csv(\"./data_cleaned/NVDA_cleaned.csv\")\n",
    "\n",
    "\n",
    "# We are storing our stocks in a dictionary to simplify manipulation\n",
    "df = {\"AAPL\":df_AAPL, \"NVDA\": df_NVDA, \"MSFT\": df_MSFT, \"AMZN\": df_AMZN, \"GOOG\": df_GOOG}"
   ]
  },
  {
   "cell_type": "code",
   "execution_count": 4,
   "id": "781d331e-94e5-40f3-a48c-f0b703b81eff",
   "metadata": {},
   "outputs": [],
   "source": [
    "# We convert the \"Date\" column of our dataframe to datetime type\n",
    "for i in stocks:\n",
    "    df[i][\"Date\"] = pd.to_datetime(df[i][\"Date\"])"
   ]
  },
  {
   "cell_type": "markdown",
   "id": "307acb74-9b93-48c2-a035-f37ed9dc8607",
   "metadata": {},
   "source": [
    "### 4.2. Data Visualization\n",
    " <p style=\"text-align: left; color: #555; font-size: 16px;\">\n",
    "     In this part, we will do data visualization in order to observe the evolution of our insights over time. This will allow us to compare our variables in order to make the best recommendation.\n",
    "</p>\n",
    "\n",
    "#### 4.2.1. Market Performance and Momentum Analysis\n",
    "\n",
    "\n",
    "---\n",
    "\n",
    "##### 4.2.1.1. Trend Direction / Strength"
   ]
  },
  {
   "cell_type": "markdown",
   "id": "ba4a3371",
   "metadata": {},
   "source": [
    "We seek to determine in which direction the price is moving and to assess the intensity of this movement."
   ]
  },
  {
   "cell_type": "markdown",
   "id": "c7da44ba",
   "metadata": {},
   "source": [
    "Definition:\n",
    "\n",
    "- MACD: The MACD is a trend-following momentum indicator that shows the relationship between two EMAs of a stock's price. It is used to identify potential buy and sell signals based on the convergence and divergence of the moving averages.\n",
    "\n",
    "- VWAP: The VWAP represents the average price of a stock weighted by its trading volume. It is commonly used to measure the price at which most of the trading volume occurred during a given period."
   ]
  },
  {
   "cell_type": "code",
   "execution_count": null,
   "id": "6b446895-e36b-49cf-827e-d2e1a1de183a",
   "metadata": {},
   "outputs": [
    {
     "data": {
      "application/vnd.jupyter.widget-view+json": {
       "model_id": "b4c8abd142c649dcb614a7f70be602b3",
       "version_major": 2,
       "version_minor": 0
      },
      "text/plain": [
       "interactive(children=(Dropdown(description='Stock:', options=('AAPL', 'NVDA', 'MSFT', 'AMZN', 'GOOG'), value='…"
      ]
     },
     "metadata": {},
     "output_type": "display_data"
    },
    {
     "data": {
      "text/plain": [
       "<function __main__.plot_macd_vwap(stock_symbol, year)>"
      ]
     },
     "execution_count": 71,
     "metadata": {},
     "output_type": "execute_result"
    }
   ],
   "source": [
    "def plot_macd_vwap(stock_symbol, year):\n",
    "    \"\"\"Plot MACD, Signal Line, and VWAP for a selected stock and year\"\"\"\n",
    "    \n",
    "    # Filter the data based on the selected year and stock\n",
    "    df_filtered = df[stock_symbol] \n",
    "    df_filtered = df_filtered[df_filtered[\"Year\"] == year]\n",
    "    \n",
    "    # Create subplots for MACD and VWAP in separate graphs\n",
    "    fig, (ax1, ax2) = plt.subplots(2, 1, figsize=(8, 10), sharex=False)\n",
    "    \n",
    "    # Plot MACD and Signal Line in the first subplot\n",
    "    ax1.plot(df_filtered[\"Date\"], df_filtered[\"MACD\"], label = \"MACD\", color = \"blue\")\n",
    "    ax1.plot(df_filtered[\"Date\"], df_filtered[\"Signal\"], label = \"Signal Line\", color = \"red\")\n",
    "    ax1.set_ylabel(\"MACD\", color = \"blue\")\n",
    "    ax1.tick_params(axis = \"y\", labelcolor = \"blue\")\n",
    "    \n",
    "    # Title for the MACD graph\n",
    "    ax1.set_title(f\"MACD for {stock_symbol} ({year})\")\n",
    "    \n",
    "    # Add a legend for MACD and Signal Line\n",
    "    ax1.legend(loc = \"upper left\")\n",
    "    \n",
    "    # Plot MACD Histogram\n",
    "    ax1.bar(df_filtered[\"Date\"], df_filtered[\"MACD\"] - df_filtered[\"Signal\"], label=\"MACD Histogram\", color = \"green\", alpha = 0.4)\n",
    "    \n",
    "    # Add a legend for the MACD Histogram\n",
    "    ax1.legend(loc = \"upper right\")\n",
    "    \n",
    "    # Plot VWAP in the second subplot\n",
    "    ax2.plot(df_filtered[\"Date\"], df_filtered[\"VWAP\"], label = \"VWAP\", color = \"orange\", linestyle = \"--\")\n",
    "    ax2.set_xlabel(\"Date\")\n",
    "    ax2.set_ylabel(\"VWAP\", color=\"orange\")\n",
    "    ax2.tick_params(axis = \"y\", labelcolor = \"orange\")\n",
    "    \n",
    "    # Title for the VWAP graph\n",
    "    ax2.set_title(f\"VWAP for {stock_symbol} ({year})\")\n",
    "    \n",
    "    # Plot the closing price on the same subplot\n",
    "    ax2.plot(df_filtered[\"Date\"], df_filtered[\"Close\"], label = \"Close Price\", color = \"green\", linestyle = \"--\")\n",
    "    \n",
    "    # Add a legend for VWAP and Close Price\n",
    "    ax2.legend(loc = \"upper left\")\n",
    "    \n",
    "    # Rotate x-axis labels for both subplots\n",
    "    ax1.tick_params(axis = \"x\", rotation = 45)\n",
    "    ax2.tick_params(axis = \"x\", rotation = 45)\n",
    "    \n",
    "    # Show grid and plot\n",
    "    plt.grid(True)\n",
    "    \n",
    "    # Adjust layout\n",
    "    plt.tight_layout()  \n",
    "    plt.show()\n",
    "\n",
    "# Interactive widgets\n",
    "stock_selector = Dropdown(options=[\"AAPL\", \"NVDA\", \"MSFT\", \"AMZN\", \"GOOG\"], value=\"AAPL\", description=\"Stock:\")\n",
    "year_slider = IntSlider(min=2010, max=2024, step=1, value=2024, description=\"Year:\")\n",
    "\n",
    "# Create interactive plot\n",
    "interact(plot_macd_vwap, stock_symbol=stock_selector, year=year_slider)\n"
   ]
  },
  {
   "cell_type": "markdown",
   "id": "e560c659",
   "metadata": {},
   "source": [
    "##### Interpretation:\n",
    "**VWAP**: For each of our stocks, over the past 10 years or more, the price has been significantly higher than the VWAP. This reflects market dominance by buyers, in addition to an upward financial trend. Even though the stock prices are high (price > VWAP), this trend could suggest positive investor sentiment regarding these stocks.\n",
    "\n",
    "We also note the fluctuations observed primarily between 2010 and 2013. During certain periods, stock prices were below the VWAP, indicating that sellers controlled the market, and it wasn't a very favorable time to invest (on the contrary, this was a signal to sell).\n",
    "\n",
    "**MACD**: We observe a strong correlation between the different stocks based on the MACD indicator, particularly since 2020. The same peaks are visible on the curves of different stocks, suggesting that these stocks follow similar trends or react to the same market factors during this period. Although these stocks belong to different sectors, this synchronization could be related to global economic events, such as monetary and fiscal policies, the COVID-19 pandemic, and stimulus measures that affected multiple sectors similarly. This aligns with the results from the `correlation_df_values()` function, which revealed Pearson coefficients close to 1, indicating a very strong correlation between these stocks. (This observation is not visible due to limited resources on the notebook provided on datascientist.fr).\n",
    "\n",
    "At the end of 2024, although AMZN, NVDA, GOOG, and MSFT stocks are declining, this could be a good time to invest. These companies are solid and leaders in their sectors, which may allow them to bounce back in the future. Buying at lower prices now could present good opportunities for gains when the market rebounds.\n",
    "\n",
    "##### Analysis Note\n",
    "We observe that the VWAP indicator shows an upward trend, while the MACD fluctuates. The VWAP, as a volume-weighted average, reflects a stable trend and indicates continuous buying pressure when the price remains above this average. In contrast, the MACD fluctuates more because it measures the difference between two moving averages, making it more sensitive to short-term variations.\n"
   ]
  },
  {
   "cell_type": "markdown",
   "id": "4999dd16-3f82-4e06-b64e-a79199026128",
   "metadata": {},
   "source": [
    "##### 4.2.1.2. Return Rate\n",
    "We want to evaluate stock performance to determine their past performance and future potential."
   ]
  },
  {
   "cell_type": "code",
   "execution_count": 72,
   "id": "408771ca",
   "metadata": {},
   "outputs": [
    {
     "data": {
      "application/vnd.jupyter.widget-view+json": {
       "model_id": "039ff299c490433ab48bfccdee7ec233",
       "version_major": 2,
       "version_minor": 0
      },
      "text/plain": [
       "interactive(children=(Dropdown(description='Stock:', options=('AAPL', 'NVDA', 'MSFT', 'AMZN', 'GOOG'), value='…"
      ]
     },
     "metadata": {},
     "output_type": "display_data"
    }
   ],
   "source": [
    "m_labels = [\"Jan\", \"Feb\", \"Mar\", \"Apr\", \"May\", \"Jun\", \"Jul\", \"Aug\", \"Sep\", \"Oct\", \"Nov\", \"Dec\"]\n",
    "\n",
    "def plot_m_return(df_pd, yr_filt, stk_name):\n",
    "    \"\"\"Plot Monthly Return Rate for a stock and year\"\"\"\n",
    "    # Filter by year\n",
    "    df_yr = df_pd.loc[df_pd[\"Date\"].dt.year == yr_filt]\n",
    "    \n",
    "    # Group by Month and calculate the mean return rate for each month\n",
    "    m_return = df_yr.groupby(\"Month\").agg({\"Daily_Return_Rate\": \"mean\"})\n",
    "    \n",
    "    # Calculate the annual average return\n",
    "    annual_avg_return = df_yr[\"Daily_Return_Rate\"].mean()\n",
    "    \n",
    "    # Calculate the proportion of positive and negative returns\n",
    "    \n",
    "    # positive returns\n",
    "    positive_returns = (m_return[\"Daily_Return_Rate\"] > 0).sum()  \n",
    "    # negative returns\n",
    "    negative_returns = (m_return[\"Daily_Return_Rate\"] < 0).sum()  \n",
    "    # Total number of months\n",
    "    total_months = len(m_return)  \n",
    "    \n",
    "    # Calculate proportions\n",
    "    pos_proportion = positive_returns / total_months * 100\n",
    "    neg_proportion = negative_returns / total_months * 100\n",
    "    \n",
    "    # Print the proportions\n",
    "    print(f\"Proportion of positive returns: {pos_proportion:.2f}%\")\n",
    "    print(f\"Proportion of negative returns: {neg_proportion:.2f}%\")\n",
    "    \n",
    "    # Plotting the monthly return rate\n",
    "    plt.figure(figsize=(6, 5))\n",
    "    plt.plot(m_return.index, m_return[\"Daily_Return_Rate\"], label = \"Monthly Return Rate\", color = \"red\")\n",
    "    \n",
    "    # Add the annual average return\n",
    "    plt.axhline(annual_avg_return, color = \"blue\", linestyle = \"--\", label = f\"Annual Avg: {annual_avg_return:.2%}\")\n",
    "    \n",
    "    # Title and labels\n",
    "    plt.title(f\"{stk_name} - Monthly Return Rate in {yr_filt}\")\n",
    "    plt.xlabel(\"Month\")\n",
    "    plt.ylabel(\"Monthly Return Rate\")\n",
    "    \n",
    "    # Check if all months are available in the data\n",
    "    avail_months = m_return.index\n",
    "    plt.xticks(avail_months, labels=[m_labels[m - 1] for m in avail_months])\n",
    "    \n",
    "    # Rotate x-axis labels\n",
    "    plt.xticks(rotation=45) \n",
    "    plt.grid(True)\n",
    "    plt.legend()\n",
    "    plt.tight_layout()\n",
    "    plt.show()\n",
    "\n",
    "def int_plot(df_dict):\n",
    "    \"\"\"Create interactive widgets to choose stock and year for plotting\"\"\"\n",
    "    # Dropdown for stocks\n",
    "    stk_sel = Dropdown(options = list(df_dict.keys()), description = \"Stock:\")  \n",
    "    # Year slider\n",
    "    yr_sldr = IntSlider(min = 2010, max = 2024, step = 1, value = 2024, description = \"Year:\")  \n",
    "\n",
    "    def upd_yr_sldr(*args):\n",
    "        \"\"\"Update year slider range based on selected stock\"\"\"        \n",
    "        sel_stk = stk_sel.value\n",
    "        df_pd = df_dict[sel_stk]\n",
    "        yr_sldr.min = 2010\n",
    "        yr_sldr.max = 2024\n",
    "        yr_sldr.value = 2024\n",
    "\n",
    "    # Trigger slider update on stock change\n",
    "    stk_sel.observe(upd_yr_sldr, names = \"value\")  \n",
    "\n",
    "    def upd_plot(stk, yr):\n",
    "        \"\"\"Update plot for selected stock and year\"\"\"\n",
    "        plot_m_return(df_dict[stk], yr, stk)\n",
    "    \n",
    "    # Initialize slider\n",
    "    upd_yr_sldr()  \n",
    "    # Link widgets and plotting function\n",
    "    interact(upd_plot, stk = stk_sel, yr = yr_sldr)  \n",
    "\n",
    "int_plot(df)\n"
   ]
  },
  {
   "cell_type": "markdown",
   "id": "2b94421d",
   "metadata": {},
   "source": [
    "##### Interpretation:\n",
    "\n",
    "Return Rate: By analyzing the chart above since 2014 and considering the proportion of positive values, along with the annual averages, we get the following ranking in terms of the best return rates: **NVDA**, **AAPL**, **MSFT**, **GOOG**, and **AMZN**. However, our analysis of this chart does not account for the risks associated with investing in these stocks. Indeed, it is difficult to visually compare the standard deviations due to their proximity. \n",
    "\n",
    "Nevertheless, in **Notebook 1**, by applying the `descriptive_stat()` function to the dataframe derived from `daily_return_rate()` (Notebook 1: 2.2.2. Technical and Business Questions), we obtain the following ranking: **AAPL**, **MSFT**, **NVDA**, **GOOG**, and **AMZN**. We can observe that the ranking is nearly identical, with the main difference being that the second ranking takes the volatility of the assets into account by considering the standard deviation.\n"
   ]
  },
  {
   "cell_type": "markdown",
   "id": "0e244942-c53b-4d3e-b242-09526084f3cb",
   "metadata": {},
   "source": [
    "##### 4.2.1.3. Buying / Selling Pressure\n",
    "\n",
    "We seek to analyze the pressure exerted by buyers and sellers in order to understand the market equilibrium."
   ]
  },
  {
   "cell_type": "markdown",
   "id": "82dfe9a2",
   "metadata": {},
   "source": [
    "Definition:\n",
    "\n",
    "- OBV: The OBV indicator is used to measure buying and selling pressure based on volume. It is calculated as a cumulative sum, where the volume is added when the price increases and subtracted when it decreases.\n",
    "\n",
    "- CMF: The CMF measures the cumulative flow of money into and out of a stock over a specified period, helping to identify the strength of a trend by analyzing price and volume.\n",
    "\n",
    "- PVT: The PVT is a volume-based momentum indicator that combines price and volume data to measure the strength of price movements and trends."
   ]
  },
  {
   "cell_type": "code",
   "execution_count": 67,
   "id": "e208f035-d535-47d1-a316-7e0ec1d5e5ad",
   "metadata": {},
   "outputs": [
    {
     "data": {
      "application/vnd.jupyter.widget-view+json": {
       "model_id": "21dc5bf485ba40598351b8bbb49323f3",
       "version_major": 2,
       "version_minor": 0
      },
      "text/plain": [
       "interactive(children=(IntSlider(value=2024, description='Year: ', max=2024, min=2010), Dropdown(description='S…"
      ]
     },
     "metadata": {},
     "output_type": "display_data"
    },
    {
     "data": {
      "text/plain": [
       "<function __main__.plot_buying_selling_pressure_separate(year, stock)>"
      ]
     },
     "execution_count": 67,
     "metadata": {},
     "output_type": "execute_result"
    }
   ],
   "source": [
    "def plot_buying_selling_pressure_separate(year, stock):\n",
    "    # Filter data for the selected stock and year\n",
    "    df_filtered = df[stock]\n",
    "    df_filtered = df_filtered[df_filtered[\"Year\"] == year]\n",
    "    \n",
    "    # Set up subplots\n",
    "    fig, axes = plt.subplots(3, 1, figsize=(10, 12), sharex = False)\n",
    "    \n",
    "    # Plot OBV and Price on the same graph\n",
    "    ax1 = axes[0]\n",
    "    ax1.plot(df_filtered[\"Date\"], df_filtered[\"OBV\"], label=\"OBV\", color=\"blue\", alpha=0.8)\n",
    "    ax2 = ax1.twinx()  # Add a secondary y-axis for the price\n",
    "    ax2.plot(df_filtered[\"Date\"], df_filtered[\"Close\"], label=\"Price\", color=\"black\", linestyle=\"--\", alpha=0.8)\n",
    "    \n",
    "    # Titles and labels for the OBV/Price graph\n",
    "    ax1.set_title(\"On-Balance Volume (OBV) with Price\", fontsize=14)\n",
    "    ax1.set_ylabel(\"OBV\", fontsize=12)\n",
    "    ax2.set_ylabel(\"Price\", fontsize=12)\n",
    "    ax1.grid(True)\n",
    "    ax1.legend(loc=\"upper left\")\n",
    "    ax2.legend(loc=\"upper right\")\n",
    "    \n",
    "    # Plot CMF\n",
    "    axes[1].bar(df_filtered[\"Date\"], df_filtered[\"CMF\"], label=\"CMF\", color=df_filtered[\"CMF\"].apply(lambda x: \"green\" if x > 0 else \"red\"), alpha=0.5)\n",
    "    axes[1].set_title(\"Chaikin Money Flow (CMF)\", fontsize=14)\n",
    "    axes[1].set_ylabel(\"CMF\", fontsize=12)\n",
    "    axes[1].grid(True)\n",
    "    axes[1].legend()\n",
    "    \n",
    "    # Plot PVT and Price on the same graph\n",
    "    ax3 = axes[2]\n",
    "    ax3.plot(df_filtered[\"Date\"], df_filtered[\"PVT\"], label=\"PVT\", color=\"orange\", linestyle=\"--\", alpha=0.8)\n",
    "    ax4 = ax3.twinx()  # Add a secondary y-axis for the price\n",
    "    ax4.plot(df_filtered[\"Date\"], df_filtered[\"Close\"], label=\"Price\", color=\"black\", linestyle=\"--\", alpha=0.8)\n",
    "    \n",
    "    # Titles and labels for the PVT/Price graph\n",
    "    ax3.set_title(\"Price Volume Trend (PVT) with Price\", fontsize=14)\n",
    "    ax3.set_ylabel(\"PVT\", fontsize=12)\n",
    "    ax4.set_ylabel(\"Price\", fontsize=12)\n",
    "    ax3.grid(True)\n",
    "    ax3.legend(loc=\"upper left\")\n",
    "    ax4.legend(loc=\"upper right\")\n",
    "    \n",
    "    # Set xlabel and rotate x-axis labels for all graphs\n",
    "    for ax in axes:\n",
    "        ax.set_xlabel(\"Date\", fontsize=12)\n",
    "        ax.tick_params(axis=\"x\", rotation=45)\n",
    "    \n",
    "    # Adjust layout\n",
    "    plt.tight_layout()\n",
    "    plt.show()\n",
    "\n",
    "# Interactive widgets\n",
    "stock_selector = Dropdown(options=[\"AAPL\", \"NVDA\", \"MSFT\", \"AMZN\", \"GOOG\"], value=\"AAPL\", description=\"Stock: \")\n",
    "year_slider = IntSlider(min=2010, max=2024, step=1, value=2024, description=\"Year: \")\n",
    "\n",
    "# Create interactive plot\n",
    "interact(plot_buying_selling_pressure_separate, year=year_slider, stock=stock_selector)\n"
   ]
  },
  {
   "cell_type": "markdown",
   "id": "62c69d98",
   "metadata": {},
   "source": [
    "##### Interpretation:\n",
    "\n",
    "**OBV:**  \n",
    "By the end of 2024, we observe that for the stocks of **AMZN**, **MSFT**, **NVDA**, and **AAPL**, the OBV curve is rising. This indicates that investors are in a buying phase. In contrast, **GOOG** shows a slight decline, suggesting that investors are selling.\n",
    "\n",
    "However, we also notice that the price curve and the OBV curve do not follow the same direction for **GOOG** and **MSFT** at the end of 2024. For **MSFT**, this divergence may suggest a future price increase, as the OBV continues to rise. On the other hand, for **GOOG**, the declining OBV might signal a potential drop in prices.\n",
    "\n",
    "When observing the OBV's evolution over time, we can see that these divergences between OBV and prices are relatively rare.\n",
    "\n",
    "**CMF:**  \n",
    "Over a 14-year period, we generally see positive values for the **Chaikin Money Flow (CMF)**. This indicates that, overall, investors are actively buying stocks, reflecting sustained buying pressure and an upward trend. However, it's important to note that during years marked by economic crises, the CMF indicator turned negative. For example, for **AMZN**, during 2021 and 2022, amidst the COVID-19 crisis, the CMF recorded negative values, suggesting a period of massive selling and increased selling pressure.\n",
    "\n",
    "Regarding **NVDA**, at the end of 2024, the CMF indicator turns negative. This could indicate that, although prices are still relatively high, investors are beginning to lose interest in the stock, preferring to sell rather than buy. This could signal a trend reversal, with a potential drop in prices in the near future. For interested investors, it might be wise to monitor this development closely. A negative CMF value could also suggest that the stock is overvalued in the short term, potentially creating an investment opportunity if the price drops, making the stock more attractive for purchase at a lower price.\n",
    "\n",
    "**PVT:**  \n",
    "We can identify an upward trend in all of our stocks except **NVDA** by the end of 2024. This suggests that investors continue to support the stocks. For **NVDA**, this slight decline aligns with our observations from the previous indicator, **CMF**.\n"
   ]
  },
  {
   "cell_type": "markdown",
   "id": "48802cd3-ff88-4943-90a7-857b4f0ed436",
   "metadata": {},
   "source": [
    "#### 4.2.2. Market Conditions and Price Dynamics\n",
    "\n",
    "---\n",
    "\n",
    "##### 4.2.2.1. Overbought / Oversold\n",
    "We seek to identify whether a stock is overbought or oversold to assess buying or selling opportunities."
   ]
  },
  {
   "cell_type": "markdown",
   "id": "919180ea",
   "metadata": {},
   "source": [
    "Definition:\n",
    "\n",
    "- RSI: The RSI measures the strength of a price movement on a scale of 0 to 100, where an RSI above 70 indicates overbought and below 30 indicates oversold."
   ]
  },
  {
   "cell_type": "code",
   "execution_count": 68,
   "id": "968c803d-65ff-4448-87cb-1b9ef19eb5ec",
   "metadata": {},
   "outputs": [
    {
     "data": {
      "application/vnd.jupyter.widget-view+json": {
       "model_id": "74ff079410054c7ba2c292910b1af539",
       "version_major": 2,
       "version_minor": 0
      },
      "text/plain": [
       "interactive(children=(IntSlider(value=2024, description='Year: ', max=2024, min=2010), Dropdown(description='S…"
      ]
     },
     "metadata": {},
     "output_type": "display_data"
    },
    {
     "data": {
      "text/plain": [
       "<function __main__.plot_interactive_rsi(year, stock)>"
      ]
     },
     "execution_count": 68,
     "metadata": {},
     "output_type": "execute_result"
    }
   ],
   "source": [
    "def plot_interactive_rsi(year, stock):\n",
    "    \"\"\"Plot RSI with Overbought/Oversold Levels for a selected stock and year\"\"\"\n",
    "\n",
    "    # Filter the DataFrame by the selected stock and year\n",
    "    df_filtered = df[stock]  \n",
    "    df_filtered = df_filtered[df_filtered[\"Year\"] == year] \n",
    "\n",
    "    # Create the plot\n",
    "    plt.figure(figsize = (8, 6))\n",
    "\n",
    "    # Plot RSI data\n",
    "    plt.plot(df_filtered[\"Date\"], df_filtered[\"RSI\"], label = \"RSI\", color = \"blue\")\n",
    "\n",
    "    # Add overbought and oversold horizontal lines\n",
    "    plt.axhline(70, color = \"red\", linestyle = \"--\", label = \"Overbought [70]\")\n",
    "    plt.axhline(30, color = \"green\", linestyle = \"--\", label = \"Oversold [30]\")\n",
    "\n",
    "    # Highlight the overbought and oversold areas\n",
    "    plt.fill_between(df_filtered[\"Date\"], 70, 100, color = \"red\", alpha = 0.1)\n",
    "    plt.fill_between(df_filtered[\"Date\"], 0, 30, color = \"green\", alpha = 0.1)\n",
    "\n",
    "    # Set plot title and labels\n",
    "    plt.title(f\"RSI Over Time for {stock} in {year}\", fontsize = 18)\n",
    "    plt.xlabel(\"Date\", fontsize = 14)\n",
    "    plt.ylabel(\"RSI\", fontsize = 14)\n",
    "\n",
    "    # Display grid and legend\n",
    "    plt.legend(fontsize = 12)\n",
    "    plt.grid(True)\n",
    "\n",
    "    # Rotate x-axis labels\n",
    "    plt.xticks(rotation = 45)\n",
    "\n",
    "    plt.tight_layout()\n",
    "    plt.show()\n",
    "\n",
    "# Interactive widgets for selecting stock and year\n",
    "stock_selector = Dropdown(options = stocks, value = \"AAPL\", description = \"Stock: \")\n",
    "year_slider = IntSlider(min = 2010, max = 2024, step = 1, value = 2024, description = \"Year: \")\n",
    "\n",
    "# Interactive plot\n",
    "interact(plot_interactive_rsi, year = year_slider, stock = stock_selector)\n"
   ]
  },
  {
   "cell_type": "markdown",
   "id": "f5a9694a",
   "metadata": {},
   "source": [
    "##### Interpretation:\n",
    "\n",
    "**RSI:**  \n",
    "Overall, our stocks have been more **overbought** than **oversold** since 2010. It’s interesting to observe fluctuations tied to real-world events. For example, in 2022, a decline in advertising spending and increased competition led to more **oversold** conditions throughout the year.\n",
    "\n",
    "Conversely, the **overbought** conditions for **Nvidia** stocks emerged towards the end of 2022, driven by the rising interest in AI technologies.\n",
    "\n",
    "By the end of 2024, **AAPL** stocks are **overbought**, unlike the others, which are evolving in a more stable manner.\n"
   ]
  },
  {
   "cell_type": "markdown",
   "id": "099ee9ce-723e-40e9-a848-c9e879f6a24e",
   "metadata": {},
   "source": [
    "##### 4.2.2.2. Speed or Momentum\n",
    "We seek to analyze the speed of price movements to assess market dynamics and identify investment opportunities."
   ]
  },
  {
   "cell_type": "markdown",
   "id": "060daa4a",
   "metadata": {},
   "source": [
    "Definition:\n",
    "\n",
    "- ROC: The ROC indicator measures the percentage change in the price over a specified period, helping to identify price momentum. Positive values indicate upward momentum, while negative values suggest downward momentum."
   ]
  },
  {
   "cell_type": "code",
   "execution_count": 70,
   "id": "d2cee6b9-f402-47f8-af99-2fd5b8bde05f",
   "metadata": {},
   "outputs": [
    {
     "data": {
      "application/vnd.jupyter.widget-view+json": {
       "model_id": "e064da36aa164e06bd9346eb01d3ab4f",
       "version_major": 2,
       "version_minor": 0
      },
      "text/plain": [
       "interactive(children=(IntSlider(value=2024, continuous_update=False, description='Year: ', max=2024, min=2010)…"
      ]
     },
     "metadata": {},
     "output_type": "display_data"
    },
    {
     "data": {
      "text/plain": [
       "<function __main__.plot_roc(year, stock)>"
      ]
     },
     "execution_count": 70,
     "metadata": {},
     "output_type": "execute_result"
    }
   ],
   "source": [
    "def plot_roc(year, stock):\n",
    "    \"\"\"Plot ROC for the selected stock and year\"\"\"\n",
    "\n",
    "    # Load the DataFrame corresponding to the selected stock\n",
    "    df_stock = df[stock]\n",
    "\n",
    "    # Filter data for the selected year using the existing \"Year\" column\n",
    "    df_filtered = df_stock[df_stock[\"Year\"] == year]\n",
    "\n",
    "    # Create the plot\n",
    "    plt.figure(figsize = (8, 6))\n",
    "\n",
    "    # Plot the \"ROC\" column\n",
    "    plt.plot(df_filtered[\"Date\"], df_filtered[\"ROC\"], label = f\"ROC for {stock} in {year}\")\n",
    "\n",
    "    # Set plot title and labels\n",
    "    plt.title(f\"ROC for {stock} in {year}\")\n",
    "    plt.xlabel(\"Date\")\n",
    "    plt.ylabel(\"ROC\")\n",
    "\n",
    "    # Rotate x-axis labels\n",
    "    plt.xticks(rotation = 45)\n",
    "\n",
    "    # Display grid and legend\n",
    "    plt.grid(True)\n",
    "    plt.legend()\n",
    "\n",
    "    plt.tight_layout()\n",
    "    plt.show()\n",
    "\n",
    "# Interactive widgets for selecting year and stock\n",
    "year_slider = IntSlider(value = 2024, min = 2010, max = 2024, step = 1, description = \"Year: \", continuous_update = False)\n",
    "stock_selector = Dropdown(options = stocks, value = \"AAPL\", description = \"Stock: \")\n",
    "\n",
    "# Interactive plot\n",
    "interact(plot_roc, year = year_slider, stock = stock_selector)\n"
   ]
  },
  {
   "cell_type": "markdown",
   "id": "0182ac6e",
   "metadata": {},
   "source": [
    "##### Interpretation:\n",
    "\n",
    "**ROC:**  \n",
    "Throughout 2024, stock prices have experienced significant volatility. By the end of the year, a **strongly negative ROC** for **GOOG** and **NVDA** indicates **oversold** conditions. This suggests that investors have predominantly been selling these stocks.\n",
    "\n",
    "On the other hand, the **ROC close to 0** for **AMZN** and **MSFT** signals a **slowing of the trend**. This may indicate a period of consolidation, where the price remains relatively stable, with no clear short-term direction.\n",
    "\n",
    "Finally, **AAPL** stands out with a **strongly positive ROC**, signaling an **overbought** condition. This could indicate strong buying pressure and a **robust bullish trend**, where investor optimism is particularly high.\n"
   ]
  },
  {
   "cell_type": "markdown",
   "id": "a1af3219",
   "metadata": {},
   "source": [
    "## 5. Conclusion\n",
    "\n",
    "The analysis of the results from the functions implemented in part 3 (Exploration): average_open_close_price() and daily_return_rate() alongside the analysis in part 4 (analysis and visualization) leads to the following conclusions:\n",
    "\n",
    "First, **AAPL** stands out significantly. The RSI indicator shows \"overbought\" market conditions, signaling strong demand. While this may seem a bit risky in the short term, it also indicates strong support from buyers. Other indicators, such as **PVT** and **OBV**, reinforce this idea by indicating strong buying pressure. Furthermore, **AAPL's** **ROC** is highly positive, showing sustained upward momentum. These combined signals suggest that **AAPL** is in a strong position to continue growing, offering an interesting opportunity for investors looking for a dynamic stock with solid potential in the short and medium term.\n",
    "\n",
    "**MSFT**, while showing a slightly more nuanced situation, is still a good choice. The indicators show mild consolidation, but its **ROC** near zero suggests that the stock might be in a waiting phase before another rise. The **VWAP** being above the current price and the **CMF** remaining positive suggest stability, which could lead to a rebound when conditions are favorable. Although less dynamic than **AAPL**, **MSFT** represents a solid and less risky option for investors, offering a good balance between return and moderate volatility.\n",
    "\n",
    "On the other hand, **GOOG** and **NVDA** show concerning signals. For **GOOG**, the **ROC** is negative, indicating selling pressure and a possible \"oversold\" phase, suggesting that the stock might continue to struggle in the coming months. The **CMF** confirms this trend by suggesting that buyers are exiting. As a result, **GOOG's** returns are likely to remain less attractive in the short term, and a correction may extend. **NVDA**, meanwhile, presents a similar situation with a negative **ROC** and a declining **CMF**, also signaling selling pressure. While **NVDA** has shown high returns in the past, it remains the stock with the greatest potential for long-term returns, but it also carries significant risks. Investors will need to be prepared for some volatility.\n",
    "\n",
    "**AMZN** is in an intermediate position. Returns are relatively stable, and although the **ROC** near zero signals a lack of clear direction, the **CMF** and **PVT** remain positive, suggesting stability. This could point to a period of consolidation before a potential rebound, but the short-term returns are not as promising as those of **AAPL** or **MSFT**.\n",
    "\n",
    "In conclusion, **AAPL** and **MSFT** stand out as the best options for investment at the end of 2024. **AAPL** benefits from strong upward momentum supported by active buyers, while **MSFT** shows stability, which could translate into continuous growth, even though it is less volatile. In contrast, **GOOG** and **NVDA** present short-term risks due to selling pressure and negative returns, although long-term opportunities may arise if economic conditions improve.\n"
   ]
  }
 ],
 "metadata": {
  "kernelspec": {
   "display_name": "base",
   "language": "python",
   "name": "python3"
  },
  "language_info": {
   "codemirror_mode": {
    "name": "ipython",
    "version": 3
   },
   "file_extension": ".py",
   "mimetype": "text/x-python",
   "name": "python",
   "nbconvert_exporter": "python",
   "pygments_lexer": "ipython3",
   "version": "3.12.3"
  }
 },
 "nbformat": 4,
 "nbformat_minor": 5
}
